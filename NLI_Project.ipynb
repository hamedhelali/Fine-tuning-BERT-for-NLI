{
  "nbformat": 4,
  "nbformat_minor": 0,
  "metadata": {
    "colab": {
      "name": "NLI_Project.ipynb",
      "provenance": [],
      "collapsed_sections": [
        "Ib9ChhyTTB9J",
        "oKmB_pFT5Cso"
      ],
      "toc_visible": true,
      "include_colab_link": true
    },
    "kernelspec": {
      "name": "python3",
      "display_name": "Python 3"
    }
  },
  "cells": [
    {
      "cell_type": "markdown",
      "metadata": {
        "id": "view-in-github",
        "colab_type": "text"
      },
      "source": [
        "<a href=\"https://colab.research.google.com/github/hamedhelali/Fine-tuning-BERT-for-NLI/blob/master/NLI_Project.ipynb\" target=\"_parent\"><img src=\"https://colab.research.google.com/assets/colab-badge.svg\" alt=\"Open In Colab\"/></a>"
      ]
    },
    {
      "cell_type": "markdown",
      "metadata": {
        "id": "HExcnDeBuLZI",
        "colab_type": "text"
      },
      "source": [
        "# Fine-tuning BERT for Natural Language Inference\n",
        "\n",
        "#### Hamed Helali\n",
        "\n",
        "## 1. Introduction\n",
        "In this notebook, I will build a deep learning model to perform Natural Language Inference (NLI) task. NLI is classifying relationships between pairs of sentences to *contradication*, *entailment* or *neutral*. First, we will develop a preliminary model by fine-tuning a pretrained BERT. Then we will explore different models to tune hyperparameters and get better performance. As a more systematic approach (than mere trial and error), we will use random search to tune hyperparameters.  \n",
        "Dataset used for this task is training, development and test sets from [Stanford Natural Language Inference (SNLI) Corpus](https://nlp.stanford.edu/projects/snli/). Training set of this data set has 550153 examples and dev and test sets each have 10000 examples. Each example have been labeled independently by 5 people and the best label is chosen as 'gold label'. For some examples there is no gold label and the this field equals to '-'.\n"
      ]
    },
    {
      "cell_type": "code",
      "metadata": {
        "id": "Dxn4RaRqD6ZH",
        "colab_type": "code",
        "colab": {}
      },
      "source": [
        "from google.colab import drive\n",
        "import numpy as np\n",
        "import pandas as pd\n",
        "import tensorflow as tf\n",
        "import random\n",
        "from matplotlib import pyplot as plt\n",
        "from sklearn.preprocessing import LabelEncoder\n",
        "import IPython\n",
        "random.seed(1366)"
      ],
      "execution_count": 1,
      "outputs": []
    },
    {
      "cell_type": "markdown",
      "metadata": {
        "id": "RWL-f05V6Dif",
        "colab_type": "text"
      },
      "source": [
        "In the below cell I am going to make sure that TensorFlow can find a GPU device."
      ]
    },
    {
      "cell_type": "code",
      "metadata": {
        "id": "1i4I7pW6Q_QR",
        "colab_type": "code",
        "colab": {
          "base_uri": "https://localhost:8080/",
          "height": 34
        },
        "outputId": "8460857f-e50b-496a-a18a-0f03a58f8945"
      },
      "source": [
        "device_name = tf.test.gpu_device_name()\n",
        "if device_name != '/device:GPU:0':\n",
        "  raise SystemError('GPU device not found')\n",
        "print('Found GPU at: {}'.format(device_name))"
      ],
      "execution_count": 3,
      "outputs": [
        {
          "output_type": "stream",
          "text": [
            "Found GPU at: /device:GPU:0\n"
          ],
          "name": "stdout"
        }
      ]
    },
    {
      "cell_type": "markdown",
      "metadata": {
        "id": "KUoeNtat6nvx",
        "colab_type": "text"
      },
      "source": [
        "Note that this notebook have been primarily developed on Google Colab. Data were uploaded to google drive. So, we mount google drive and import datasets from drive to google colab VM."
      ]
    },
    {
      "cell_type": "code",
      "metadata": {
        "id": "WobEpg1cOCGz",
        "colab_type": "code",
        "colab": {
          "base_uri": "https://localhost:8080/",
          "height": 122
        },
        "outputId": "7bc31c95-469b-4b26-8079-f410f71d7bc8"
      },
      "source": [
        "drive.mount('/content/drive')"
      ],
      "execution_count": 2,
      "outputs": [
        {
          "output_type": "stream",
          "text": [
            "Go to this URL in a browser: https://accounts.google.com/o/oauth2/auth?client_id=947318989803-6bn6qk8qdgf4n4g3pfee6491hc0brc4i.apps.googleusercontent.com&redirect_uri=urn%3aietf%3awg%3aoauth%3a2.0%3aoob&scope=email%20https%3a%2f%2fwww.googleapis.com%2fauth%2fdocs.test%20https%3a%2f%2fwww.googleapis.com%2fauth%2fdrive%20https%3a%2f%2fwww.googleapis.com%2fauth%2fdrive.photos.readonly%20https%3a%2f%2fwww.googleapis.com%2fauth%2fpeopleapi.readonly&response_type=code\n",
            "\n",
            "Enter your authorization code:\n",
            "··········\n",
            "Mounted at /content/drive\n"
          ],
          "name": "stdout"
        }
      ]
    },
    {
      "cell_type": "code",
      "metadata": {
        "id": "Xs4FB25aOaxu",
        "colab_type": "code",
        "colab": {}
      },
      "source": [
        "tr = pd.read_csv(\"/content/drive/My Drive/Stanford NLI/snli_1_train.csv\")\n",
        "dev = pd.read_csv(\"/content/drive/My Drive/Stanford NLI/snli_1_dev.csv\")\n",
        "ts = pd.read_csv(\"/content/drive/My Drive/Stanford NLI/snli_1_test.csv\")"
      ],
      "execution_count": 3,
      "outputs": []
    },
    {
      "cell_type": "code",
      "metadata": {
        "id": "_iKkZSXuTA4c",
        "colab_type": "code",
        "colab": {
          "base_uri": "https://localhost:8080/",
          "height": 204
        },
        "outputId": "911e9813-6bd5-4406-ee42-2642a28630cd"
      },
      "source": [
        "train_corpus = tr[['gold_label', 'sentence1', 'sentence2']]\n",
        "dev_corpus = dev[['gold_label', 'sentence1', 'sentence2']]\n",
        "test_corpus = ts[['gold_label', 'sentence1', 'sentence2']]\n",
        "train_corpus.head()"
      ],
      "execution_count": 4,
      "outputs": [
        {
          "output_type": "execute_result",
          "data": {
            "text/html": [
              "<div>\n",
              "<style scoped>\n",
              "    .dataframe tbody tr th:only-of-type {\n",
              "        vertical-align: middle;\n",
              "    }\n",
              "\n",
              "    .dataframe tbody tr th {\n",
              "        vertical-align: top;\n",
              "    }\n",
              "\n",
              "    .dataframe thead th {\n",
              "        text-align: right;\n",
              "    }\n",
              "</style>\n",
              "<table border=\"1\" class=\"dataframe\">\n",
              "  <thead>\n",
              "    <tr style=\"text-align: right;\">\n",
              "      <th></th>\n",
              "      <th>gold_label</th>\n",
              "      <th>sentence1</th>\n",
              "      <th>sentence2</th>\n",
              "    </tr>\n",
              "  </thead>\n",
              "  <tbody>\n",
              "    <tr>\n",
              "      <th>0</th>\n",
              "      <td>neutral</td>\n",
              "      <td>A person on a horse jumps over a broken down a...</td>\n",
              "      <td>A person is training his horse for a competition.</td>\n",
              "    </tr>\n",
              "    <tr>\n",
              "      <th>1</th>\n",
              "      <td>contradiction</td>\n",
              "      <td>A person on a horse jumps over a broken down a...</td>\n",
              "      <td>A person is at a diner, ordering an omelette.</td>\n",
              "    </tr>\n",
              "    <tr>\n",
              "      <th>2</th>\n",
              "      <td>entailment</td>\n",
              "      <td>A person on a horse jumps over a broken down a...</td>\n",
              "      <td>A person is outdoors, on a horse.</td>\n",
              "    </tr>\n",
              "    <tr>\n",
              "      <th>3</th>\n",
              "      <td>neutral</td>\n",
              "      <td>Children smiling and waving at camera</td>\n",
              "      <td>They are smiling at their parents</td>\n",
              "    </tr>\n",
              "    <tr>\n",
              "      <th>4</th>\n",
              "      <td>entailment</td>\n",
              "      <td>Children smiling and waving at camera</td>\n",
              "      <td>There are children present</td>\n",
              "    </tr>\n",
              "  </tbody>\n",
              "</table>\n",
              "</div>"
            ],
            "text/plain": [
              "      gold_label  ...                                          sentence2\n",
              "0        neutral  ...  A person is training his horse for a competition.\n",
              "1  contradiction  ...      A person is at a diner, ordering an omelette.\n",
              "2     entailment  ...                  A person is outdoors, on a horse.\n",
              "3        neutral  ...                  They are smiling at their parents\n",
              "4     entailment  ...                         There are children present\n",
              "\n",
              "[5 rows x 3 columns]"
            ]
          },
          "metadata": {
            "tags": []
          },
          "execution_count": 4
        }
      ]
    },
    {
      "cell_type": "markdown",
      "metadata": {
        "id": "Ib9ChhyTTB9J",
        "colab_type": "text"
      },
      "source": [
        "## 2. Exploring the Data\n",
        "At this stage, we are going to take a look at 10 random examples of each of the contradication, entailment and neutral relationships to grasp a more concrete idea of what they mean."
      ]
    },
    {
      "cell_type": "code",
      "metadata": {
        "id": "EdJV2wS0_YSx",
        "colab_type": "code",
        "colab": {}
      },
      "source": [
        "def sentence_sampler(category, n=10):\n",
        "  \"\"\"\n",
        "  Prints a sample of sentences with a certain label of relationship (category) from train set\n",
        "\n",
        "  INPUTS:\n",
        "    category (string): category of relationship\n",
        "    n (int): sample size\n",
        "  \"\"\"\n",
        "  sample = train_corpus[train_corpus.gold_label == category].sample(n)\n",
        "  for index, row in sample.iterrows():\n",
        "    print(\"Sentence1:\")\n",
        "    print(row['sentence1'])\n",
        "    print(\"Sentence2:\")\n",
        "    print(row['sentence2'])\n",
        "    print(\"\\n\")"
      ],
      "execution_count": 6,
      "outputs": []
    },
    {
      "cell_type": "code",
      "metadata": {
        "id": "TM1s1H3oQorn",
        "colab_type": "code",
        "colab": {
          "base_uri": "https://localhost:8080/",
          "height": 1000
        },
        "outputId": "e1dfb385-67bb-48b7-8db4-563f7bc07d87"
      },
      "source": [
        "print(\"EXAMPLES OF CONTRADICTION:\")\n",
        "print(\"\\n\")\n",
        "sentence_sampler('contradiction')\n",
        "\n",
        "print(\"EXAMPLES OF ENTAILMENT:\")\n",
        "print(\"\\n\")\n",
        "sentence_sampler('entailment')\n",
        "\n",
        "print(\"EXAMPLES OF NEUTRAL:\")\n",
        "print(\"\\n\")\n",
        "sentence_sampler('neutral')"
      ],
      "execution_count": 7,
      "outputs": [
        {
          "output_type": "stream",
          "text": [
            "EXAMPLES OF CONTRADICTION:\n",
            "\n",
            "\n",
            "Sentence1:\n",
            "Two men, one wearing red uniform with white stripes and the other a white uniform are playing soccer.\n",
            "Sentence2:\n",
            "two teams of soccer players kick a baseball around a hockey rink.\n",
            "\n",
            "\n",
            "Sentence1:\n",
            "two people are standing in a large arch doorway.\n",
            "Sentence2:\n",
            "Two people are laying down.\n",
            "\n",
            "\n",
            "Sentence1:\n",
            "Slender dog running in the sand on a sunny day.\n",
            "Sentence2:\n",
            "A pet swimming in a pool.\n",
            "\n",
            "\n",
            "Sentence1:\n",
            "a girl speeds by on her scooter.\n",
            "Sentence2:\n",
            "The girl is trying to work.\n",
            "\n",
            "\n",
            "Sentence1:\n",
            "A man wearing latex gloves with a tool on his hand is operating on something.\n",
            "Sentence2:\n",
            "A man is welding.\n",
            "\n",
            "\n",
            "Sentence1:\n",
            "Two men work on a metal roof in the sunlight, one man is wearing a white shirt and the other man is wearing a black shirt and holding a drill.\n",
            "Sentence2:\n",
            "Two men are doing the plumbing.\n",
            "\n",
            "\n",
            "Sentence1:\n",
            "A woman in a headscarf sits near children in a box decorated with flowers and balloons.\n",
            "Sentence2:\n",
            "A group of children is unsupervised.\n",
            "\n",
            "\n",
            "Sentence1:\n",
            "A left handed Major League Baseball player for the Cleveland Indians swings at a pitch.\n",
            "Sentence2:\n",
            "The player is right handed\n",
            "\n",
            "\n",
            "Sentence1:\n",
            "A woman whose head is not visible walks in front of a bus with an advertisement on its side.\n",
            "Sentence2:\n",
            "The womans head is visible\n",
            "\n",
            "\n",
            "Sentence1:\n",
            "A young woman and older woman wear traditional saris as they spin textiles, three people are pictured at only the waists, and wear modern clothes.\n",
            "Sentence2:\n",
            "Three men discuss politics in a bar.\n",
            "\n",
            "\n",
            "EXAMPLES OF ENTAILMENT:\n",
            "\n",
            "\n",
            "Sentence1:\n",
            "A person putting their hair up in a busy area of a city with several telephone booths in the background.\n",
            "Sentence2:\n",
            "There are many telephone booths in the city.\n",
            "\n",
            "\n",
            "Sentence1:\n",
            "A group of five men are walking along some snowy railroad tracks.\n",
            "Sentence2:\n",
            "A group of five people are walking along some snowy railroad tracks.\n",
            "\n",
            "\n",
            "Sentence1:\n",
            "A man in a black sweatshirt holds up an Obama sign.\n",
            "Sentence2:\n",
            "A man is holding a sign.\n",
            "\n",
            "\n",
            "Sentence1:\n",
            "A young boy wearing a blue jacket is walking down a brick road with two woman.\n",
            "Sentence2:\n",
            "The young boy, accompanied by two women, is walking down the brick road.\n",
            "\n",
            "\n",
            "Sentence1:\n",
            "A woman in an orange jacket sits on a bench.\n",
            "Sentence2:\n",
            "A woman is wearing an orange jacket while sitting on a bench.\n",
            "\n",
            "\n",
            "Sentence1:\n",
            "A vendor, selling such kid-friendly items as popular cartoon balloons, water guns and clear umbrellas, wheels his stand around in the streets where he is selling.\n",
            "Sentence2:\n",
            "The man is selling balloons.\n",
            "\n",
            "\n",
            "Sentence1:\n",
            "A man in a blue shirt preparing to take a picture of figurines on a small red table.\n",
            "Sentence2:\n",
            "A photographer.\n",
            "\n",
            "\n",
            "Sentence1:\n",
            "A male in a black and white bathing suit, looks like he's hanging in midair, getting ready to jump into a backyard pool.\n",
            "Sentence2:\n",
            "A male jumps into a backyard pool.\n",
            "\n",
            "\n",
            "Sentence1:\n",
            "A woman in a green shirt is getting ready to throw her bowling ball down the lane in a bowling alley.\n",
            "Sentence2:\n",
            "The woman in the green shirt is bowling.\n",
            "\n",
            "\n",
            "Sentence1:\n",
            "Two kids with helmets playing with Nerf swords while one looks on drinking from a plastic cup.\n",
            "Sentence2:\n",
            "Two kids with helmets battle with Nerf swords while another drinks from a plastic cup.\n",
            "\n",
            "\n",
            "EXAMPLES OF NEUTRAL:\n",
            "\n",
            "\n",
            "Sentence1:\n",
            "Two large dogs lying on their backs on a purple comforter.\n",
            "Sentence2:\n",
            "Two large dogs are lying on their backs sleeping soundly.\n",
            "\n",
            "\n",
            "Sentence1:\n",
            "A man wearing a suit, hat, and name-tag is standing next to an open door.\n",
            "Sentence2:\n",
            "This man is in charge of the door.\n",
            "\n",
            "\n",
            "Sentence1:\n",
            "A man in a hat and an apron works on a bicycle.\n",
            "Sentence2:\n",
            "a man works on a bicycle for the first time\n",
            "\n",
            "\n",
            "Sentence1:\n",
            "Three dogs playing on grass.\n",
            "Sentence2:\n",
            "Dogs chasing each other in their yard.\n",
            "\n",
            "\n",
            "Sentence1:\n",
            "There is a girl decorating for an event and a man is standing next to her smiling, and an island poster in the distance.\n",
            "Sentence2:\n",
            "There is a couple preparing for their trip.\n",
            "\n",
            "\n",
            "Sentence1:\n",
            "A girl with glasses is singing into a microphone in front of a crowd.\n",
            "Sentence2:\n",
            "The girl in glasses is singing outside to a crowd.\n",
            "\n",
            "\n",
            "Sentence1:\n",
            "Three policemen are on horses.\n",
            "Sentence2:\n",
            "The men are patrolling the area.\n",
            "\n",
            "\n",
            "Sentence1:\n",
            "Girls are playing volleyball.\n",
            "Sentence2:\n",
            "Girls are playing volleyball and basketball.\n",
            "\n",
            "\n",
            "Sentence1:\n",
            "A Man is riding a go-cart at the go-cart track.\n",
            "Sentence2:\n",
            "A man is racing with his son at the go-cart track for his birthday.\n",
            "\n",
            "\n",
            "Sentence1:\n",
            "A girl holding a Chinese flag covers her mouth in Tiananmen Square.\n",
            "Sentence2:\n",
            "The girl is part of a protest against the communist, Chinese government.\n",
            "\n",
            "\n"
          ],
          "name": "stdout"
        }
      ]
    },
    {
      "cell_type": "markdown",
      "metadata": {
        "id": "Td_af43W8Slq",
        "colab_type": "text"
      },
      "source": [
        "As I mentioned in the introduction section, some examples do not have gold label. Among the other examples three classes are distributed in balance."
      ]
    },
    {
      "cell_type": "code",
      "metadata": {
        "id": "MJDzPgqAD_Br",
        "colab_type": "code",
        "colab": {
          "base_uri": "https://localhost:8080/",
          "height": 204
        },
        "outputId": "4e021d47-62bc-4a79-cade-75808ca4fe42"
      },
      "source": [
        "train_corpus.groupby('gold_label').count()"
      ],
      "execution_count": null,
      "outputs": [
        {
          "output_type": "execute_result",
          "data": {
            "text/html": [
              "<div>\n",
              "<style scoped>\n",
              "    .dataframe tbody tr th:only-of-type {\n",
              "        vertical-align: middle;\n",
              "    }\n",
              "\n",
              "    .dataframe tbody tr th {\n",
              "        vertical-align: top;\n",
              "    }\n",
              "\n",
              "    .dataframe thead th {\n",
              "        text-align: right;\n",
              "    }\n",
              "</style>\n",
              "<table border=\"1\" class=\"dataframe\">\n",
              "  <thead>\n",
              "    <tr style=\"text-align: right;\">\n",
              "      <th></th>\n",
              "      <th>sentence1</th>\n",
              "      <th>sentence2</th>\n",
              "    </tr>\n",
              "    <tr>\n",
              "      <th>gold_label</th>\n",
              "      <th></th>\n",
              "      <th></th>\n",
              "    </tr>\n",
              "  </thead>\n",
              "  <tbody>\n",
              "    <tr>\n",
              "      <th>-</th>\n",
              "      <td>785</td>\n",
              "      <td>785</td>\n",
              "    </tr>\n",
              "    <tr>\n",
              "      <th>contradiction</th>\n",
              "      <td>183187</td>\n",
              "      <td>183185</td>\n",
              "    </tr>\n",
              "    <tr>\n",
              "      <th>entailment</th>\n",
              "      <td>183416</td>\n",
              "      <td>183414</td>\n",
              "    </tr>\n",
              "    <tr>\n",
              "      <th>neutral</th>\n",
              "      <td>182764</td>\n",
              "      <td>182762</td>\n",
              "    </tr>\n",
              "  </tbody>\n",
              "</table>\n",
              "</div>"
            ],
            "text/plain": [
              "               sentence1  sentence2\n",
              "gold_label                         \n",
              "-                    785        785\n",
              "contradiction     183187     183185\n",
              "entailment        183416     183414\n",
              "neutral           182764     182762"
            ]
          },
          "metadata": {
            "tags": []
          },
          "execution_count": 12
        }
      ]
    },
    {
      "cell_type": "markdown",
      "metadata": {
        "id": "z03aqBcsTSxY",
        "colab_type": "text"
      },
      "source": [
        "So, I drop examples with label '-' in all train, dev and test sets. \n",
        "\n"
      ]
    },
    {
      "cell_type": "code",
      "metadata": {
        "id": "GPDkmeFYSyds",
        "colab_type": "code",
        "colab": {}
      },
      "source": [
        "train_corpus = train_corpus[train_corpus['gold_label'] != '-']\n",
        "dev_corpus = dev_corpus[dev_corpus['gold_label'] != '-']\n",
        "test_corpus = test_corpus[test_corpus['gold_label'] != '-']"
      ],
      "execution_count": 8,
      "outputs": []
    },
    {
      "cell_type": "code",
      "metadata": {
        "id": "dyK64qiezXtf",
        "colab_type": "code",
        "colab": {
          "base_uri": "https://localhost:8080/",
          "height": 173
        },
        "outputId": "c9e9d49e-d0a6-411c-fda2-6413a5183a33"
      },
      "source": [
        "train_corpus.groupby('gold_label').count()"
      ],
      "execution_count": null,
      "outputs": [
        {
          "output_type": "execute_result",
          "data": {
            "text/html": [
              "<div>\n",
              "<style scoped>\n",
              "    .dataframe tbody tr th:only-of-type {\n",
              "        vertical-align: middle;\n",
              "    }\n",
              "\n",
              "    .dataframe tbody tr th {\n",
              "        vertical-align: top;\n",
              "    }\n",
              "\n",
              "    .dataframe thead th {\n",
              "        text-align: right;\n",
              "    }\n",
              "</style>\n",
              "<table border=\"1\" class=\"dataframe\">\n",
              "  <thead>\n",
              "    <tr style=\"text-align: right;\">\n",
              "      <th></th>\n",
              "      <th>sentence1</th>\n",
              "      <th>sentence2</th>\n",
              "    </tr>\n",
              "    <tr>\n",
              "      <th>gold_label</th>\n",
              "      <th></th>\n",
              "      <th></th>\n",
              "    </tr>\n",
              "  </thead>\n",
              "  <tbody>\n",
              "    <tr>\n",
              "      <th>contradiction</th>\n",
              "      <td>183187</td>\n",
              "      <td>183185</td>\n",
              "    </tr>\n",
              "    <tr>\n",
              "      <th>entailment</th>\n",
              "      <td>183416</td>\n",
              "      <td>183414</td>\n",
              "    </tr>\n",
              "    <tr>\n",
              "      <th>neutral</th>\n",
              "      <td>182764</td>\n",
              "      <td>182762</td>\n",
              "    </tr>\n",
              "  </tbody>\n",
              "</table>\n",
              "</div>"
            ],
            "text/plain": [
              "               sentence1  sentence2\n",
              "gold_label                         \n",
              "contradiction     183187     183185\n",
              "entailment        183416     183414\n",
              "neutral           182764     182762"
            ]
          },
          "metadata": {
            "tags": []
          },
          "execution_count": 17
        }
      ]
    },
    {
      "cell_type": "code",
      "metadata": {
        "id": "n8NLH9zDzZos",
        "colab_type": "code",
        "colab": {
          "base_uri": "https://localhost:8080/",
          "height": 173
        },
        "outputId": "e91f3e4d-e977-4cbb-a84f-c8f31c338d9e"
      },
      "source": [
        "dev_corpus.groupby('gold_label').count()"
      ],
      "execution_count": null,
      "outputs": [
        {
          "output_type": "execute_result",
          "data": {
            "text/html": [
              "<div>\n",
              "<style scoped>\n",
              "    .dataframe tbody tr th:only-of-type {\n",
              "        vertical-align: middle;\n",
              "    }\n",
              "\n",
              "    .dataframe tbody tr th {\n",
              "        vertical-align: top;\n",
              "    }\n",
              "\n",
              "    .dataframe thead th {\n",
              "        text-align: right;\n",
              "    }\n",
              "</style>\n",
              "<table border=\"1\" class=\"dataframe\">\n",
              "  <thead>\n",
              "    <tr style=\"text-align: right;\">\n",
              "      <th></th>\n",
              "      <th>sentence1</th>\n",
              "      <th>sentence2</th>\n",
              "    </tr>\n",
              "    <tr>\n",
              "      <th>gold_label</th>\n",
              "      <th></th>\n",
              "      <th></th>\n",
              "    </tr>\n",
              "  </thead>\n",
              "  <tbody>\n",
              "    <tr>\n",
              "      <th>contradiction</th>\n",
              "      <td>3278</td>\n",
              "      <td>3278</td>\n",
              "    </tr>\n",
              "    <tr>\n",
              "      <th>entailment</th>\n",
              "      <td>3329</td>\n",
              "      <td>3329</td>\n",
              "    </tr>\n",
              "    <tr>\n",
              "      <th>neutral</th>\n",
              "      <td>3235</td>\n",
              "      <td>3235</td>\n",
              "    </tr>\n",
              "  </tbody>\n",
              "</table>\n",
              "</div>"
            ],
            "text/plain": [
              "               sentence1  sentence2\n",
              "gold_label                         \n",
              "contradiction       3278       3278\n",
              "entailment          3329       3329\n",
              "neutral             3235       3235"
            ]
          },
          "metadata": {
            "tags": []
          },
          "execution_count": 9
        }
      ]
    },
    {
      "cell_type": "code",
      "metadata": {
        "id": "HL76CTrlzasL",
        "colab_type": "code",
        "colab": {
          "base_uri": "https://localhost:8080/",
          "height": 173
        },
        "outputId": "7a24a678-e31a-4ddc-ec1b-5584aa03b162"
      },
      "source": [
        "test_corpus.groupby('gold_label').count()"
      ],
      "execution_count": null,
      "outputs": [
        {
          "output_type": "execute_result",
          "data": {
            "text/html": [
              "<div>\n",
              "<style scoped>\n",
              "    .dataframe tbody tr th:only-of-type {\n",
              "        vertical-align: middle;\n",
              "    }\n",
              "\n",
              "    .dataframe tbody tr th {\n",
              "        vertical-align: top;\n",
              "    }\n",
              "\n",
              "    .dataframe thead th {\n",
              "        text-align: right;\n",
              "    }\n",
              "</style>\n",
              "<table border=\"1\" class=\"dataframe\">\n",
              "  <thead>\n",
              "    <tr style=\"text-align: right;\">\n",
              "      <th></th>\n",
              "      <th>sentence1</th>\n",
              "      <th>sentence2</th>\n",
              "    </tr>\n",
              "    <tr>\n",
              "      <th>gold_label</th>\n",
              "      <th></th>\n",
              "      <th></th>\n",
              "    </tr>\n",
              "  </thead>\n",
              "  <tbody>\n",
              "    <tr>\n",
              "      <th>contradiction</th>\n",
              "      <td>3237</td>\n",
              "      <td>3237</td>\n",
              "    </tr>\n",
              "    <tr>\n",
              "      <th>entailment</th>\n",
              "      <td>3368</td>\n",
              "      <td>3368</td>\n",
              "    </tr>\n",
              "    <tr>\n",
              "      <th>neutral</th>\n",
              "      <td>3219</td>\n",
              "      <td>3219</td>\n",
              "    </tr>\n",
              "  </tbody>\n",
              "</table>\n",
              "</div>"
            ],
            "text/plain": [
              "               sentence1  sentence2\n",
              "gold_label                         \n",
              "contradiction       3237       3237\n",
              "entailment          3368       3368\n",
              "neutral             3219       3219"
            ]
          },
          "metadata": {
            "tags": []
          },
          "execution_count": 8
        }
      ]
    },
    {
      "cell_type": "markdown",
      "metadata": {
        "id": "oKmB_pFT5Cso",
        "colab_type": "text"
      },
      "source": [
        "### 2.1 Dev and Test Set Distributions\n",
        "Before building any models and iterating over them to improve performance,it is necessay to make sure that development and test data sets come from the same distribution. If it is not the case, all the fine-tuning and performance improvement effort will be in vain, because you have set your target (dev test) in the wrong (different) place. We do this investigation from two view points:\n",
        "* Are the distributions of sentence lengths similar in both data sets?\n",
        "* Are the vacabularies of the words used in both data sets similiar? After all, it will not be a good idea to tune a model to work well on fairy tails and then expect to have also good performance on Shakespeare's poems. (As an extreme example)"
      ]
    },
    {
      "cell_type": "code",
      "metadata": {
        "id": "RblzhXk6WaGP",
        "colab_type": "code",
        "colab": {}
      },
      "source": [
        "## Comparing length of sentences in both datasets\n",
        "# dev_set\n",
        "dev_corpus[\"sen1_len\"] = dev_corpus['sentence1'].apply(len)\n",
        "dev_corpus[\"sen2_len\"] = dev_corpus['sentence2'].apply(len)\n",
        "dev_corpus['sen1 - sen2'] = dev_corpus[\"sen1_len\"] - dev_corpus[\"sen2_len\"]\n",
        "\n",
        "# test_set\n",
        "test_corpus[\"sen1_len\"] = test_corpus['sentence1'].apply(len)\n",
        "test_corpus[\"sen2_len\"] = test_corpus['sentence2'].apply(len)\n",
        "test_corpus['sen1 - sen2'] = test_corpus[\"sen1_len\"] - test_corpus[\"sen2_len\"]"
      ],
      "execution_count": null,
      "outputs": []
    },
    {
      "cell_type": "code",
      "metadata": {
        "id": "Q-sRPEiv9UMb",
        "colab_type": "code",
        "colab": {
          "base_uri": "https://localhost:8080/",
          "height": 809
        },
        "outputId": "a8c5ecdc-ca43-4efb-80cf-b01f4d2d5a17"
      },
      "source": [
        "plt.hist(dev_corpus['sen1_len'], bins=50, label=\"sentence1 length in dev set\", alpha=0.5)\n",
        "plt.hist(test_corpus['sen1_len'], bins=50, label=\"sentence1 length in test set\", alpha=0.5)\n",
        "plt.title(\"Sentence 1 Length Comparison\")\n",
        "plt.legend(loc='best')\n",
        "plt.show()\n",
        "\n",
        "plt.hist(dev_corpus['sen2_len'], bins=50, label=\"sentence2 length in dev set\", alpha=0.5)\n",
        "plt.hist(test_corpus['sen2_len'], bins=50, label=\"sentence2 length in test set\", alpha=0.5)\n",
        "plt.title(\"Sentence 2 Length Comparison\")\n",
        "plt.legend(loc='best')\n",
        "plt.show()\n",
        "\n",
        "plt.hist(dev_corpus['sen1 - sen2'], bins=50, label=\"Length difference in dev set\", alpha=0.5)\n",
        "plt.hist(test_corpus['sen1 - sen2'], bins=50, label=\"Length difference in test set\", alpha=0.5)\n",
        "plt.title(\"Comparison of diff in lengths of sentence 1 and 2 in dev and test sets\")\n",
        "plt.legend(loc='best')\n",
        "plt.show()"
      ],
      "execution_count": null,
      "outputs": [
        {
          "output_type": "display_data",
          "data": {
            "image/png": "[encoded data removed]",
            "text/plain": [
              "<Figure size 432x288 with 1 Axes>"
            ]
          },
          "metadata": {
            "tags": [],
            "needs_background": "light"
          }
        },
        {
          "output_type": "display_data",
          "data": {
            "image/png": "[encoded data removed]",
            "text/plain": [
              "<Figure size 432x288 with 1 Axes>"
            ]
          },
          "metadata": {
            "tags": [],
            "needs_background": "light"
          }
        },
        {
          "output_type": "display_data",
          "data": {
            "image/png": "[encoded data removed]",
            "text/plain": [
              "<Figure size 432x288 with 1 Axes>"
            ]
          },
          "metadata": {
            "tags": [],
            "needs_background": "light"
          }
        }
      ]
    },
    {
      "cell_type": "markdown",
      "metadata": {
        "id": "TZK5k4jpADoS",
        "colab_type": "text"
      },
      "source": [
        "It is evident that dev and test sets are similiar length-wise. Then, Let's go into the vocabulary used in each data set."
      ]
    },
    {
      "cell_type": "code",
      "metadata": {
        "id": "1rd0LR8HDGgZ",
        "colab_type": "code",
        "colab": {}
      },
      "source": [
        "def unique_words_seperator(column):\n",
        "  \"\"\"\n",
        "  Returns a list consisting of all the unique words in a column of a dataframe. splitor of is considered to be ' '\n",
        "  (space character) and punctuation marks are deleted from the end of each word \n",
        "  \n",
        "  INPUT:\n",
        "    column (pandas.Series object): a series object which has string values\n",
        "\n",
        "  OUTPUT:\n",
        "    python list: list of unique words used in the input pandas series \n",
        "  \"\"\"\n",
        "\n",
        "  words_list = list(column.str.split(' ', expand=True).stack().unique())\n",
        "  # In the following line, I am removing puncuation mark from the end or beginning of the words.\n",
        "  rec_words_list = [w.strip('.,;()[]') for w in words_list]\n",
        "  return rec_words_list"
      ],
      "execution_count": 11,
      "outputs": []
    },
    {
      "cell_type": "code",
      "metadata": {
        "id": "XDa3SWP8yrMO",
        "colab_type": "code",
        "colab": {}
      },
      "source": [
        "def common_words_finder(vocab1, vocab2):\n",
        "  \"\"\"\n",
        "  Finds common words between two lists of words\n",
        "\n",
        "  INPUTS:\n",
        "    vocab1 (python list): first list of words\n",
        "    vocab2 (python list): second list of words\n",
        "  \n",
        "  OUTPUTS:\n",
        "    python list: intersection of the words between two input lists\n",
        "  \"\"\"\n",
        "\n",
        "  common_vocab = [word for word in vocab1 if word in vocab2] \n",
        "  return common_vocab"
      ],
      "execution_count": 12,
      "outputs": []
    },
    {
      "cell_type": "code",
      "metadata": {
        "id": "1pDApmMrTQh1",
        "colab_type": "code",
        "colab": {
          "base_uri": "https://localhost:8080/",
          "height": 85
        },
        "outputId": "e947d455-3d1b-4aad-d700-83d36d1fb3ca"
      },
      "source": [
        "dev_s1 = unique_words_seperator(dev_corpus['sentence1'])\n",
        "dev_s2 = unique_words_seperator(dev_corpus['sentence2'])\n",
        "dev_vocab = dev_s1 + dev_s2\n",
        "dev_vocab = list(set(dev_vocab))    # to only keep unique words\n",
        "\n",
        "test_s1 = unique_words_seperator(test_corpus['sentence1'])\n",
        "test_s2 = unique_words_seperator(test_corpus['sentence2'])\n",
        "test_vocab = test_s1 + test_s2\n",
        "test_vocab = list(set(test_vocab))    # to only keep unique words\n",
        "\n",
        "print(\"Number of unique words in dev set: \", str(len(dev_vocab)))\n",
        "print(\"Number of unique words in test set: \", str(len(test_vocab)))\n",
        "print(\"Number of unique common words in dev and test set: \", str(len(common_words_finder(dev_vocab, test_vocab))))\n",
        "print(\"percentage of common words in test set: \", str(len(common_words_finder(dev_vocab, test_vocab)) / len(test_vocab)))"
      ],
      "execution_count": null,
      "outputs": [
        {
          "output_type": "stream",
          "text": [
            "Number of unique words in dev set:  6987\n",
            "Number of unique words in test set:  7159\n",
            "Number of unique common words in dev and test set:  4096\n",
            "percentage of common words in test set:  0.5721469478977511\n"
          ],
          "name": "stdout"
        }
      ]
    },
    {
      "cell_type": "markdown",
      "metadata": {
        "id": "IQJ5IS7b0Qyq",
        "colab_type": "text"
      },
      "source": [
        "We can see that less than 60% of words used in test set are common with test set. In this sense they can be considered to have relatively different distributions due to use of different vocabulary of words. To fix this issue two solutions can be considered:\n",
        "* Shuffling the test and dev sets and randomly splitting it into two equal halves.\n",
        "* Randomly splitting the test set into to equal halves and using one half as dev set and the other as test set.\n",
        "\n",
        "Assuming that the current test set is a good representative of the data that model will predict in practice, the first solution is not the best idea. The reason is that it distorts representativeness of test data. In this case, we may show a great performance in testing our model but may not perform properly in practice (or vice verse). Therefore, since current test is already large enough, I take the second solution."
      ]
    },
    {
      "cell_type": "code",
      "metadata": {
        "id": "eSJqlzKXtD7K",
        "colab_type": "code",
        "colab": {
          "base_uri": "https://localhost:8080/",
          "height": 51
        },
        "outputId": "955a9deb-0f05-405b-8792-5312a07fa804"
      },
      "source": [
        "mask = np.random.rand(len(test_corpus)) < 0.5\n",
        "dev_corpus2 = test_corpus[mask]\n",
        "test_corpus2 = test_corpus[~mask]\n",
        "print(len(dev_corpus2))\n",
        "print(len(test_corpus2))"
      ],
      "execution_count": 9,
      "outputs": [
        {
          "output_type": "stream",
          "text": [
            "4818\n",
            "5006\n"
          ],
          "name": "stdout"
        }
      ]
    },
    {
      "cell_type": "markdown",
      "metadata": {
        "id": "WNU3l1y3Y2oI",
        "colab_type": "text"
      },
      "source": [
        "Let's check percentage of common words for the new dev and test sets:"
      ]
    },
    {
      "cell_type": "code",
      "metadata": {
        "id": "RCD3CsFTZKmF",
        "colab_type": "code",
        "colab": {
          "base_uri": "https://localhost:8080/",
          "height": 34
        },
        "outputId": "08ff3ec4-3b04-4f92-c41a-295b87b9f644"
      },
      "source": [
        "dev2_s1 = unique_words_seperator(dev_corpus2['sentence1'])\n",
        "dev2_s2 = unique_words_seperator(dev_corpus2['sentence2'])\n",
        "dev_vocab2 = dev2_s1 + dev2_s2\n",
        "dev_vocab2 = list(set(dev_vocab2))    # to only keep unique words\n",
        "\n",
        "test2_s1 = unique_words_seperator(test_corpus2['sentence1'])\n",
        "test2_s2 = unique_words_seperator(test_corpus2['sentence2'])\n",
        "test_vocab2 = test2_s1 + test2_s2\n",
        "test_vocab2 = list(set(test_vocab2))    # to only keep unique words\n",
        "print(\"percentage of common words in test set: \", str(len(common_words_finder(dev_vocab2, test_vocab2)) / len(test_vocab2)))"
      ],
      "execution_count": 13,
      "outputs": [
        {
          "output_type": "stream",
          "text": [
            "percentage of common words in test set:  0.7592528536838464\n"
          ],
          "name": "stdout"
        }
      ]
    },
    {
      "cell_type": "markdown",
      "metadata": {
        "id": "e31GCU9jAz-O",
        "colab_type": "text"
      },
      "source": [
        "Now they have 76% of vocabulary in common."
      ]
    },
    {
      "cell_type": "markdown",
      "metadata": {
        "id": "Iae_yQj1TaIz",
        "colab_type": "text"
      },
      "source": [
        "## 3. Building the model\n",
        "We will use pretrained uncased english BERT with L=12 transformer blocks, A=12 attention heads and H=768 hidden size (i.e. each input word will be encoded into a 768 elements vector which has meaning and context of the word) as the core encoder (word embedder) of our model architecture. In the preliminary model, classifier head will be connected to the BERT encoder with some default values for hyperparameters. Then, we will search for tuning the hyperparameters.  \n",
        "The aforementioned BERT encoder can be imported form TensorFlow hub (see [here](https://tfhub.dev/tensorflow/bert_en_uncased_L-12_H-768_A-12/2)). Also all modules and libraries needed to BERT encoding is availabe by installing and importing [official](https://github.com/tensorflow/models/tree/master/official) package which has official models of TensorFlow.  \n",
        "### 3.1 Preprocess step: Preparing inputs of the BERT encoder\n",
        "BERT encoder expects three lists as inputs for each sentence:\n",
        "* **input word ids:** Each word of a sentence is tokenized using a wordpiece vocabulary then the tokens are transformed to their ids in the vacabulary and a list of ids is inputted to BERT. This is a 2D tensor of shape `[Number of examples, max_seq_length]`. *Note that* BERT expects each example to begin with a `'[CLS]'` token and sentences be seperated with a `'[SEP]'` token.\n",
        "* **Input Mask:** This is a 2D tensor of 1 or 0 with with the same shape as `input_word_ids` which allows the model to differentiate between real words and padding. It is 1 wherever input is a real word and 0 wherever input is padding. This padding happens because the `input_word_ids` are defined as ragged tensors at first and then are casted `.to_tensor()`.\n",
        "* **Input segment ids:** This is a 2D tensor of 1 or 0 with with the same shape as `input_word_ids` which allows the model to know which words relate to the first sentence and which words relate to the second sentence."
      ]
    },
    {
      "cell_type": "code",
      "metadata": {
        "id": "HD_xw8BNL5Br",
        "colab_type": "code",
        "colab": {}
      },
      "source": [
        "!pip install tf-models-official"
      ],
      "execution_count": null,
      "outputs": []
    },
    {
      "cell_type": "code",
      "metadata": {
        "id": "-LKFxtPoXv_q",
        "colab_type": "code",
        "colab": {}
      },
      "source": [
        "import tensorflow as tf\n",
        "import tensorflow_hub as hub\n",
        "from official.nlp import bert\n",
        "import official.nlp.bert.tokenization\n",
        "\n",
        "import os"
      ],
      "execution_count": 11,
      "outputs": []
    },
    {
      "cell_type": "markdown",
      "metadata": {
        "id": "done5ecaR7Kd",
        "colab_type": "text"
      },
      "source": [
        "Here we define a BERT tokenizer instance that uses wordpiece vocabulary with 30000 entries."
      ]
    },
    {
      "cell_type": "code",
      "metadata": {
        "id": "DmzfHgkFTz7d",
        "colab_type": "code",
        "colab": {}
      },
      "source": [
        "gs_folder_bert = \"gs://cloud-tpu-checkpoints/bert/keras_bert/uncased_L-12_H-768_A-12\"\n",
        "tokenizer = bert.tokenization.FullTokenizer(vocab_file=os.path.join(gs_folder_bert, \"vocab.txt\"),\n",
        "     do_lower_case=True)"
      ],
      "execution_count": 12,
      "outputs": []
    },
    {
      "cell_type": "code",
      "metadata": {
        "id": "EdLCGdtVWKNH",
        "colab_type": "code",
        "colab": {}
      },
      "source": [
        "def sentence_encoder(s, tokenizer):\n",
        "  \"\"\"\n",
        "  This turns each sentence into a list of tokens, adds '[SEP]' token to end of the list, then turns tokens\n",
        "  into ids and returns list of ids.\n",
        "\n",
        "  INPUTS:\n",
        "    s: input sentence\n",
        "    tokenizer: an instance of BERT tokenizer\n",
        "  \n",
        "  OUTPUTS:\n",
        "    (python list): list of ids of the words of input sentence \n",
        "  \"\"\"\n",
        "  \n",
        "  tokens = list(tokenizer.tokenize(str(s)))\n",
        "  tokens.append('[SEP]')\n",
        "  return tokenizer.convert_tokens_to_ids(tokens)"
      ],
      "execution_count": 13,
      "outputs": []
    },
    {
      "cell_type": "code",
      "metadata": {
        "id": "5TzIp2kMDkju",
        "colab_type": "code",
        "colab": {}
      },
      "source": [
        "def bert_input_encoder(train_corpus, tokenizer):\n",
        "  \"\"\"\n",
        "  gets a dataframe of input sentences and returns required inputs of BERT encoder in a dictionary\n",
        "\n",
        "  INPUTS:\n",
        "    train_corpus (pandas.Dataframe): data frame of input sentences\n",
        "    tokenizer: an instance of BERT tokenizer\n",
        "  \n",
        "  OUTPUTS:\n",
        "    (python dictionary): A dictionary with 3 keys which has required inputs of BERT encoder\n",
        "  \"\"\"\n",
        "\n",
        "  sentence1 = tf.ragged.constant([sentence_encoder(s, tokenizer) for s in np.array(train_corpus['sentence1'])])\n",
        "  sentence2 = tf.ragged.constant([sentence_encoder(s, tokenizer) for s in np.array(train_corpus['sentence2'])])\n",
        "\n",
        "  cls = [tokenizer.convert_tokens_to_ids(['[CLS]'])] * sentence1.shape[0]\n",
        "  \n",
        "  input_word_ids = tf.concat([cls, sentence1, sentence2], axis=-1)\n",
        "\n",
        "  input_mask = tf.ones_like(input_word_ids).to_tensor()\n",
        "\n",
        "  segment_cls = tf.zeros_like(cls)\n",
        "  segment_s1 = tf.zeros_like(sentence1)\n",
        "  segment_s2 = tf.ones_like(sentence2)\n",
        "  input_segment_ids = tf.concat([segment_cls, segment_s1, segment_s2], axis=-1).to_tensor()\n",
        "\n",
        "  inputs_dic = {\n",
        "    'input_word_ids': input_word_ids.to_tensor(),\n",
        "    'input_mask': input_mask,\n",
        "    'input_segment_ids': input_segment_ids\n",
        "  }\n",
        "\n",
        "  return inputs_dic"
      ],
      "execution_count": 14,
      "outputs": []
    },
    {
      "cell_type": "markdown",
      "metadata": {
        "id": "wx_CpVHymjD1",
        "colab_type": "text"
      },
      "source": [
        "### 3.2 Architecture of the First Model\n",
        "In the cell below we define a model builder function which connects a classifier softmax layer to `'[CLS]'` output of BERT encoder."
      ]
    },
    {
      "cell_type": "code",
      "metadata": {
        "id": "QA7aISle80vD",
        "colab_type": "code",
        "colab": {}
      },
      "source": [
        "def inference_model_builder():\n",
        "  \"\"\"\n",
        "  Builds and returns a model instance of Keras with the functional API\n",
        "  \"\"\"\n",
        "  max_seq_length = 125\n",
        "\n",
        "  input_word_ids = tf.keras.layers.Input(shape=(max_seq_length,), dtype=tf.int32, name=\"input_word_ids\")\n",
        "  input_mask = tf.keras.layers.Input(shape=(max_seq_length,), dtype=tf.int32, name=\"input_mask\")\n",
        "  input_segment_ids = tf.keras.layers.Input(shape=(max_seq_length,), dtype=tf.int32, name=\"input_segment_ids\")\n",
        "\n",
        "  bert_layer = hub.KerasLayer(\"https://tfhub.dev/tensorflow/bert_en_uncased_L-12_H-768_A-12/2\", trainable=True)\n",
        "\n",
        "  pooled_output, _ = bert_layer([input_word_ids, input_mask, input_segment_ids])\n",
        "  # pooled output is the embedding output for the '[CLS]' token that is dependant on all words of two sentences\n",
        "  # and can be used for classfication purposes\n",
        "\n",
        "  output_class = tf.keras.layers.Dense(units=3, activation='softmax')(pooled_output)\n",
        "  \n",
        "  model = tf.keras.Model(inputs=[input_word_ids, input_mask, input_segment_ids], outputs=output_class)\n",
        "\n",
        "  optimizer = tf.keras.optimizers.Adam(lr=1e-5)\n",
        "  model.compile(optimizer, loss='sparse_categorical_crossentropy', metrics=['accuracy'])\n",
        "\n",
        "  return model"
      ],
      "execution_count": 15,
      "outputs": []
    },
    {
      "cell_type": "code",
      "metadata": {
        "id": "kdCDq7-QamHc",
        "colab_type": "code",
        "colab": {
          "base_uri": "https://localhost:8080/",
          "height": 357
        },
        "outputId": "14f376ce-1e55-4169-8e57-8fdc5547c2cb"
      },
      "source": [
        "model = inference_model_builder()\n",
        "model.summary()"
      ],
      "execution_count": 15,
      "outputs": [
        {
          "output_type": "stream",
          "text": [
            "Model: \"functional_1\"\n",
            "__________________________________________________________________________________________________\n",
            "Layer (type)                    Output Shape         Param #     Connected to                     \n",
            "==================================================================================================\n",
            "input_word_ids (InputLayer)     [(None, 125)]        0                                            \n",
            "__________________________________________________________________________________________________\n",
            "input_mask (InputLayer)         [(None, 125)]        0                                            \n",
            "__________________________________________________________________________________________________\n",
            "input_segment_ids (InputLayer)  [(None, 125)]        0                                            \n",
            "__________________________________________________________________________________________________\n",
            "keras_layer (KerasLayer)        [(None, 768), (None, 109482241   input_word_ids[0][0]             \n",
            "                                                                 input_mask[0][0]                 \n",
            "                                                                 input_segment_ids[0][0]          \n",
            "__________________________________________________________________________________________________\n",
            "dense (Dense)                   (None, 3)            2307        keras_layer[0][0]                \n",
            "==================================================================================================\n",
            "Total params: 109,484,548\n",
            "Trainable params: 109,484,547\n",
            "Non-trainable params: 1\n",
            "__________________________________________________________________________________________________\n"
          ],
          "name": "stdout"
        }
      ]
    },
    {
      "cell_type": "markdown",
      "metadata": {
        "id": "IhsuoMslHIvd",
        "colab_type": "text"
      },
      "source": [
        "We can see the model structure graphically below:"
      ]
    },
    {
      "cell_type": "code",
      "metadata": {
        "id": "WdK-0BXdaw6w",
        "colab_type": "code",
        "colab": {
          "base_uri": "https://localhost:8080/",
          "height": 312
        },
        "outputId": "5e4579db-6cf9-43d7-a574-d0b3fbc8329d"
      },
      "source": [
        "tf.keras.utils.plot_model(model, show_shapes=True)"
      ],
      "execution_count": null,
      "outputs": [
        {
          "output_type": "execute_result",
          "data": {
            "image/png": "[encoded data removed]",
            "text/plain": [
              "<IPython.core.display.Image object>"
            ]
          },
          "metadata": {
            "tags": []
          },
          "execution_count": 54
        }
      ]
    },
    {
      "cell_type": "markdown",
      "metadata": {
        "id": "U3LkP944-VBE",
        "colab_type": "text"
      },
      "source": [
        "### 3.3 First Training of the Model\n",
        "As the first round, we train the model using entire training dataset including all about 550000 examples. We choose the batch size of 64 for this training.  \n",
        "In the cell below, we are preparing (encoding) training set as well as dev and \n",
        "test sets to feed as input to BERT model\""
      ]
    },
    {
      "cell_type": "code",
      "metadata": {
        "id": "pP3uMkPgsk9m",
        "colab_type": "code",
        "colab": {}
      },
      "source": [
        "model_input = bert_input_encoder(train_corpus, tokenizer)\n",
        "dev_input = bert_input_encoder(dev_corpus2, tokenizer)\n",
        "test_input = bert_input_encoder(test_corpus2, tokenizer)"
      ],
      "execution_count": 32,
      "outputs": []
    },
    {
      "cell_type": "markdown",
      "metadata": {
        "id": "ileAWhzmoiGq",
        "colab_type": "text"
      },
      "source": [
        "We also need to turn the `str` labels of examples into `int` to be able to use in the model."
      ]
    },
    {
      "cell_type": "code",
      "metadata": {
        "id": "j1Jtclt56uYZ",
        "colab_type": "code",
        "colab": {
          "base_uri": "https://localhost:8080/",
          "height": 428
        },
        "outputId": "fea66ec6-ee96-40cd-858e-43422fc50571"
      },
      "source": [
        "le = LabelEncoder()  # from sklearn.preprocessing import LabelEncoder\n",
        "train_corpus['int_label'] = le.fit_transform(train_corpus['gold_label'])\n",
        "dev_corpus2['int_label'] = le.transform(dev_corpus2['gold_label'])\n",
        "test_corpus2['int_label'] = le.transform(test_corpus2['gold_label'])\n",
        "train_corpus.head()"
      ],
      "execution_count": 9,
      "outputs": [
        {
          "output_type": "stream",
          "text": [
            "/usr/local/lib/python3.6/dist-packages/ipykernel_launcher.py:3: SettingWithCopyWarning: \n",
            "A value is trying to be set on a copy of a slice from a DataFrame.\n",
            "Try using .loc[row_indexer,col_indexer] = value instead\n",
            "\n",
            "See the caveats in the documentation: https://pandas.pydata.org/pandas-docs/stable/user_guide/indexing.html#returning-a-view-versus-a-copy\n",
            "  This is separate from the ipykernel package so we can avoid doing imports until\n",
            "/usr/local/lib/python3.6/dist-packages/ipykernel_launcher.py:4: SettingWithCopyWarning: \n",
            "A value is trying to be set on a copy of a slice from a DataFrame.\n",
            "Try using .loc[row_indexer,col_indexer] = value instead\n",
            "\n",
            "See the caveats in the documentation: https://pandas.pydata.org/pandas-docs/stable/user_guide/indexing.html#returning-a-view-versus-a-copy\n",
            "  after removing the cwd from sys.path.\n"
          ],
          "name": "stderr"
        },
        {
          "output_type": "execute_result",
          "data": {
            "text/html": [
              "<div>\n",
              "<style scoped>\n",
              "    .dataframe tbody tr th:only-of-type {\n",
              "        vertical-align: middle;\n",
              "    }\n",
              "\n",
              "    .dataframe tbody tr th {\n",
              "        vertical-align: top;\n",
              "    }\n",
              "\n",
              "    .dataframe thead th {\n",
              "        text-align: right;\n",
              "    }\n",
              "</style>\n",
              "<table border=\"1\" class=\"dataframe\">\n",
              "  <thead>\n",
              "    <tr style=\"text-align: right;\">\n",
              "      <th></th>\n",
              "      <th>gold_label</th>\n",
              "      <th>sentence1</th>\n",
              "      <th>sentence2</th>\n",
              "      <th>int_label</th>\n",
              "    </tr>\n",
              "  </thead>\n",
              "  <tbody>\n",
              "    <tr>\n",
              "      <th>0</th>\n",
              "      <td>neutral</td>\n",
              "      <td>A person on a horse jumps over a broken down a...</td>\n",
              "      <td>A person is training his horse for a competition.</td>\n",
              "      <td>2</td>\n",
              "    </tr>\n",
              "    <tr>\n",
              "      <th>1</th>\n",
              "      <td>contradiction</td>\n",
              "      <td>A person on a horse jumps over a broken down a...</td>\n",
              "      <td>A person is at a diner, ordering an omelette.</td>\n",
              "      <td>0</td>\n",
              "    </tr>\n",
              "    <tr>\n",
              "      <th>2</th>\n",
              "      <td>entailment</td>\n",
              "      <td>A person on a horse jumps over a broken down a...</td>\n",
              "      <td>A person is outdoors, on a horse.</td>\n",
              "      <td>1</td>\n",
              "    </tr>\n",
              "    <tr>\n",
              "      <th>3</th>\n",
              "      <td>neutral</td>\n",
              "      <td>Children smiling and waving at camera</td>\n",
              "      <td>They are smiling at their parents</td>\n",
              "      <td>2</td>\n",
              "    </tr>\n",
              "    <tr>\n",
              "      <th>4</th>\n",
              "      <td>entailment</td>\n",
              "      <td>Children smiling and waving at camera</td>\n",
              "      <td>There are children present</td>\n",
              "      <td>1</td>\n",
              "    </tr>\n",
              "  </tbody>\n",
              "</table>\n",
              "</div>"
            ],
            "text/plain": [
              "      gold_label  ... int_label\n",
              "0        neutral  ...         2\n",
              "1  contradiction  ...         0\n",
              "2     entailment  ...         1\n",
              "3        neutral  ...         2\n",
              "4     entailment  ...         1\n",
              "\n",
              "[5 rows x 4 columns]"
            ]
          },
          "metadata": {
            "tags": []
          },
          "execution_count": 9
        }
      ]
    },
    {
      "cell_type": "markdown",
      "metadata": {
        "id": "9GWnjEAzIY8o",
        "colab_type": "text"
      },
      "source": [
        "Here we fit the model and save the trained model in a file named 'first_training.h5'"
      ]
    },
    {
      "cell_type": "code",
      "metadata": {
        "id": "pRH9KsG9Y4no",
        "colab_type": "code",
        "colab": {}
      },
      "source": [
        "logger = tf.keras.callbacks.TensorBoard(log_dir='/content/drive/My Drive/NLI_training/logs/first_model')"
      ],
      "execution_count": 17,
      "outputs": []
    },
    {
      "cell_type": "code",
      "metadata": {
        "id": "LIsgz4rG_M87",
        "colab_type": "code",
        "colab": {}
      },
      "source": [
        "model.fit(model_input, train_corpus.int_label.values,\n",
        "          epochs=2,\n",
        "          batch_size=64,\n",
        "          verbose=1,\n",
        "          callbacks=[logger])"
      ],
      "execution_count": null,
      "outputs": []
    },
    {
      "cell_type": "code",
      "metadata": {
        "id": "FV6yXcemutlx",
        "colab_type": "code",
        "colab": {}
      },
      "source": [
        "model.save(\"/content/drive/My Drive/NLI_training/first_training.h5\")"
      ],
      "execution_count": 22,
      "outputs": []
    },
    {
      "cell_type": "code",
      "metadata": {
        "id": "N7Sm7AZshROz",
        "colab_type": "code",
        "colab": {}
      },
      "source": [
        "model = tf.keras.models.load_model(\"/content/drive/My Drive/NLI_training/first_training.h5\",\n",
        "                                   custom_objects={'KerasLayer':hub.KerasLayer})"
      ],
      "execution_count": 19,
      "outputs": []
    },
    {
      "cell_type": "markdown",
      "metadata": {
        "id": "8Fn7waFYJX-f",
        "colab_type": "text"
      },
      "source": [
        "Note that these saves and loads of model that you saw (and will see) is because of Google colob's disconnecting and restarting the VM."
      ]
    },
    {
      "cell_type": "markdown",
      "metadata": {
        "id": "IlL9ZOISKoej",
        "colab_type": "text"
      },
      "source": [
        "### 3.4 Performance of the first model."
      ]
    },
    {
      "cell_type": "markdown",
      "metadata": {
        "id": "nYpXOv6iOcFB",
        "colab_type": "text"
      },
      "source": [
        "Due to the resluts of model fitting, training set accuracy of the first model is 89%."
      ]
    },
    {
      "cell_type": "code",
      "metadata": {
        "id": "GOgulaBdVTno",
        "colab_type": "code",
        "colab": {}
      },
      "source": [
        "def accuracy(model, bert_input, corpus):\n",
        "  \"\"\"\n",
        "  Gets input sentences (in BERT's required format), sentences corpus and a model and prints\n",
        "  accuracy rate of the model predicting labels of the corpus.\n",
        "\n",
        "  INPUTS:\n",
        "    model (tf.keras.model.Model): input model that we want to measure it accuraucy\n",
        "    bert_input (python dictionary): input sentences in BERT's required format\n",
        "    corpus (pandas.Dataframe): A data frame of input corpus\n",
        "  \"\"\"\n",
        "  predictions =[np.argmax(i) for i in model.predict(bert_input)]\n",
        "  acc = np.mean(predictions == corpus.int_label.values)\n",
        "  print(acc)"
      ],
      "execution_count": 30,
      "outputs": []
    },
    {
      "cell_type": "markdown",
      "metadata": {
        "id": "JKKq1thuLGLx",
        "colab_type": "text"
      },
      "source": [
        "Dev set accuracy of the first model is as follows:"
      ]
    },
    {
      "cell_type": "code",
      "metadata": {
        "id": "QJvSOyQLhVI0",
        "colab_type": "code",
        "colab": {
          "base_uri": "https://localhost:8080/",
          "height": 34
        },
        "outputId": "ad454dc2-6502-4be2-ef57-4baa77a6f9d0"
      },
      "source": [
        "accuracy(model, dev_input, dev_corpus2)"
      ],
      "execution_count": 22,
      "outputs": [
        {
          "output_type": "execute_result",
          "data": {
            "text/plain": [
              "0.8986731001206273"
            ]
          },
          "metadata": {
            "tags": []
          },
          "execution_count": 22
        }
      ]
    },
    {
      "cell_type": "markdown",
      "metadata": {
        "id": "2kLMb3KfMbnK",
        "colab_type": "text"
      },
      "source": [
        "As we can see there is not a considerable difference between train and dev set accuracy. Therefore our model does not have variance problem. Bias can be a potential problem if human error rate is much less than 10%. This needs to be investigated in a separate study.  \n",
        "\n",
        "And test set accuracy of model is:"
      ]
    },
    {
      "cell_type": "code",
      "metadata": {
        "id": "-wa9WNcUyVvQ",
        "colab_type": "code",
        "colab": {
          "base_uri": "https://localhost:8080/",
          "height": 34
        },
        "outputId": "bd0be2a6-0686-462d-fcbe-d7d0b047a289"
      },
      "source": [
        "accuracy(model, test_input, test_corpus2)"
      ],
      "execution_count": 26,
      "outputs": [
        {
          "output_type": "execute_result",
          "data": {
            "text/plain": [
              "0.8971134020618556"
            ]
          },
          "metadata": {
            "tags": []
          },
          "execution_count": 26
        }
      ]
    },
    {
      "cell_type": "markdown",
      "metadata": {
        "id": "g0ZbAppXP7-D",
        "colab_type": "text"
      },
      "source": [
        "### 3.5 Training With A Smaller Data Set"
      ]
    },
    {
      "cell_type": "markdown",
      "metadata": {
        "id": "9i0MNBppguPm",
        "colab_type": "text"
      },
      "source": [
        "Since our training dataset is too large and the available computational capacity is limited, iterating model fitting with this data set and tuning hyperparameters will be very time consuming. Therefore, we are going to train model with the same architecute but a smaller training dataset. To this purpose, 0.1 of the examples are sampled randomly. So, size of the new train set will be about 55000 examples.\n",
        "\n"
      ]
    },
    {
      "cell_type": "code",
      "metadata": {
        "id": "kl6wuqpVh-Jc",
        "colab_type": "code",
        "colab": {}
      },
      "source": [
        "mask = np.random.rand(len(train_corpus)) < 0.1\n",
        "new_train_corpus = train_corpus[mask]\n",
        "\n",
        "new_model_input = bert_input_encoder(new_train_corpus, tokenizer)"
      ],
      "execution_count": 26,
      "outputs": []
    },
    {
      "cell_type": "code",
      "metadata": {
        "id": "pdtWfQd7SVSb",
        "colab_type": "code",
        "colab": {}
      },
      "source": [
        "model_s_b64 = inference_model_builder()"
      ],
      "execution_count": null,
      "outputs": []
    },
    {
      "cell_type": "code",
      "metadata": {
        "id": "wENyFhsxTJ61",
        "colab_type": "code",
        "colab": {}
      },
      "source": [
        "logger_s_b64 = tf.keras.callbacks.TensorBoard(log_dir='/content/drive/My Drive/NLI_training/logs/model_s_b64')"
      ],
      "execution_count": null,
      "outputs": []
    },
    {
      "cell_type": "code",
      "metadata": {
        "id": "aNTa9WeNUFaB",
        "colab_type": "code",
        "colab": {
          "base_uri": "https://localhost:8080/",
          "height": 462
        },
        "outputId": "3114d62b-93fc-48d2-9114-0d9b0abcf664"
      },
      "source": [
        "model_s_b64.fit(new_model_input, new_train_corpus.int_label.values,\n",
        "          epochs=2,\n",
        "          batch_size=64,\n",
        "          verbose=1,\n",
        "          callbacks=[logger_s_b64])"
      ],
      "execution_count": 19,
      "outputs": [
        {
          "output_type": "stream",
          "text": [
            "Epoch 1/2\n",
            "WARNING:tensorflow:Model was constructed with shape (None, 125) for input Tensor(\"input_word_ids:0\", shape=(None, 125), dtype=int32), but it was called on an input with incompatible shape (None, 102).\n"
          ],
          "name": "stdout"
        },
        {
          "output_type": "stream",
          "text": [
            "WARNING:tensorflow:Model was constructed with shape (None, 125) for input Tensor(\"input_word_ids:0\", shape=(None, 125), dtype=int32), but it was called on an input with incompatible shape (None, 102).\n"
          ],
          "name": "stderr"
        },
        {
          "output_type": "stream",
          "text": [
            "WARNING:tensorflow:Model was constructed with shape (None, 125) for input Tensor(\"input_mask:0\", shape=(None, 125), dtype=int32), but it was called on an input with incompatible shape (None, 102).\n"
          ],
          "name": "stdout"
        },
        {
          "output_type": "stream",
          "text": [
            "WARNING:tensorflow:Model was constructed with shape (None, 125) for input Tensor(\"input_mask:0\", shape=(None, 125), dtype=int32), but it was called on an input with incompatible shape (None, 102).\n"
          ],
          "name": "stderr"
        },
        {
          "output_type": "stream",
          "text": [
            "WARNING:tensorflow:Model was constructed with shape (None, 125) for input Tensor(\"input_segment_ids:0\", shape=(None, 125), dtype=int32), but it was called on an input with incompatible shape (None, 102).\n"
          ],
          "name": "stdout"
        },
        {
          "output_type": "stream",
          "text": [
            "WARNING:tensorflow:Model was constructed with shape (None, 125) for input Tensor(\"input_segment_ids:0\", shape=(None, 125), dtype=int32), but it was called on an input with incompatible shape (None, 102).\n"
          ],
          "name": "stderr"
        },
        {
          "output_type": "stream",
          "text": [
            "WARNING:tensorflow:Model was constructed with shape (None, 125) for input Tensor(\"input_word_ids:0\", shape=(None, 125), dtype=int32), but it was called on an input with incompatible shape (None, 102).\n"
          ],
          "name": "stdout"
        },
        {
          "output_type": "stream",
          "text": [
            "WARNING:tensorflow:Model was constructed with shape (None, 125) for input Tensor(\"input_word_ids:0\", shape=(None, 125), dtype=int32), but it was called on an input with incompatible shape (None, 102).\n"
          ],
          "name": "stderr"
        },
        {
          "output_type": "stream",
          "text": [
            "WARNING:tensorflow:Model was constructed with shape (None, 125) for input Tensor(\"input_mask:0\", shape=(None, 125), dtype=int32), but it was called on an input with incompatible shape (None, 102).\n"
          ],
          "name": "stdout"
        },
        {
          "output_type": "stream",
          "text": [
            "WARNING:tensorflow:Model was constructed with shape (None, 125) for input Tensor(\"input_mask:0\", shape=(None, 125), dtype=int32), but it was called on an input with incompatible shape (None, 102).\n"
          ],
          "name": "stderr"
        },
        {
          "output_type": "stream",
          "text": [
            "WARNING:tensorflow:Model was constructed with shape (None, 125) for input Tensor(\"input_segment_ids:0\", shape=(None, 125), dtype=int32), but it was called on an input with incompatible shape (None, 102).\n"
          ],
          "name": "stdout"
        },
        {
          "output_type": "stream",
          "text": [
            "WARNING:tensorflow:Model was constructed with shape (None, 125) for input Tensor(\"input_segment_ids:0\", shape=(None, 125), dtype=int32), but it was called on an input with incompatible shape (None, 102).\n"
          ],
          "name": "stderr"
        },
        {
          "output_type": "stream",
          "text": [
            "\r  1/859 [..............................] - ETA: 8:01 - loss: 1.4580 - accuracy: 0.3438WARNING:tensorflow:From /usr/local/lib/python3.6/dist-packages/tensorflow/python/ops/summary_ops_v2.py:1277: stop (from tensorflow.python.eager.profiler) is deprecated and will be removed after 2020-07-01.\n",
            "Instructions for updating:\n",
            "use `tf.profiler.experimental.stop` instead.\n"
          ],
          "name": "stdout"
        },
        {
          "output_type": "stream",
          "text": [
            "WARNING:tensorflow:From /usr/local/lib/python3.6/dist-packages/tensorflow/python/ops/summary_ops_v2.py:1277: stop (from tensorflow.python.eager.profiler) is deprecated and will be removed after 2020-07-01.\n",
            "Instructions for updating:\n",
            "use `tf.profiler.experimental.stop` instead.\n"
          ],
          "name": "stderr"
        },
        {
          "output_type": "stream",
          "text": [
            "\b\b\b\b\b\b\b\b\b\b\b\b\b\b\b\b\b\b\b\b\b\b\b\b\b\b\b\b\b\b\b\b\b\b\b\b\b\b\b\b\b\b\b\b\b\b\b\b\b\b\b\b\b\b\b\b\b\b\b\b\b\b\b\b\b\b\b\b\b\b\b\b\b\b\b\b\b\b\b\b\b\b\b\b\b\b\r  2/859 [..............................] - ETA: 18:40 - loss: 1.5451 - accuracy: 0.3125WARNING:tensorflow:Callbacks method `on_train_batch_end` is slow compared to the batch time (batch time: 0.8021s vs `on_train_batch_end` time: 1.2489s). Check your callbacks.\n"
          ],
          "name": "stdout"
        },
        {
          "output_type": "stream",
          "text": [
            "WARNING:tensorflow:Callbacks method `on_train_batch_end` is slow compared to the batch time (batch time: 0.8021s vs `on_train_batch_end` time: 1.2489s). Check your callbacks.\n"
          ],
          "name": "stderr"
        },
        {
          "output_type": "stream",
          "text": [
            "859/859 [==============================] - 1171s 1s/step - loss: 0.6216 - accuracy: 0.7378\n",
            "Epoch 2/2\n",
            "859/859 [==============================] - 1170s 1s/step - loss: 0.4279 - accuracy: 0.8358\n"
          ],
          "name": "stdout"
        },
        {
          "output_type": "execute_result",
          "data": {
            "text/plain": [
              "<tensorflow.python.keras.callbacks.History at 0x7f192625def0>"
            ]
          },
          "metadata": {
            "tags": []
          },
          "execution_count": 19
        }
      ]
    },
    {
      "cell_type": "markdown",
      "metadata": {
        "id": "WOX6knbuT52V",
        "colab_type": "text"
      },
      "source": [
        "As you can see in the results of model fitting, the training set accuracy of the model is 83.5%."
      ]
    },
    {
      "cell_type": "code",
      "metadata": {
        "id": "uaX6PMO2tU5a",
        "colab_type": "code",
        "colab": {}
      },
      "source": [
        "model_s_b64.save(\"/content/drive/My Drive/NLI_training/model-s-b64.h5\")"
      ],
      "execution_count": 20,
      "outputs": []
    },
    {
      "cell_type": "code",
      "metadata": {
        "id": "5cilCOQSXT7i",
        "colab_type": "code",
        "colab": {}
      },
      "source": [
        "model_s_b64 = tf.keras.models.load_model(\"/content/drive/My Drive/NLI_training/model-s-b64.h5\",\n",
        "                                   custom_objects={'KerasLayer':hub.KerasLayer})"
      ],
      "execution_count": 26,
      "outputs": []
    },
    {
      "cell_type": "markdown",
      "metadata": {
        "id": "cveU6cE3Y30P",
        "colab_type": "text"
      },
      "source": [
        "Dev set accuracy of the new model trained with smaller data set is 85.2%:"
      ]
    },
    {
      "cell_type": "code",
      "metadata": {
        "id": "spwiKscWYhES",
        "colab_type": "code",
        "colab": {
          "base_uri": "https://localhost:8080/",
          "height": 207
        },
        "outputId": "a512a799-e686-4b4c-94c4-3314bed8fe6f"
      },
      "source": [
        "accuracy(model_s_b64, dev_input, dev_corpus2)"
      ],
      "execution_count": 27,
      "outputs": [
        {
          "output_type": "stream",
          "text": [
            "WARNING:tensorflow:Model was constructed with shape (None, 125) for input Tensor(\"input_word_ids_1:0\", shape=(None, 125), dtype=int32), but it was called on an input with incompatible shape (None, 73).\n"
          ],
          "name": "stdout"
        },
        {
          "output_type": "stream",
          "text": [
            "WARNING:tensorflow:Model was constructed with shape (None, 125) for input Tensor(\"input_word_ids_1:0\", shape=(None, 125), dtype=int32), but it was called on an input with incompatible shape (None, 73).\n"
          ],
          "name": "stderr"
        },
        {
          "output_type": "stream",
          "text": [
            "WARNING:tensorflow:Model was constructed with shape (None, 125) for input Tensor(\"input_mask_1:0\", shape=(None, 125), dtype=int32), but it was called on an input with incompatible shape (None, 73).\n"
          ],
          "name": "stdout"
        },
        {
          "output_type": "stream",
          "text": [
            "WARNING:tensorflow:Model was constructed with shape (None, 125) for input Tensor(\"input_mask_1:0\", shape=(None, 125), dtype=int32), but it was called on an input with incompatible shape (None, 73).\n"
          ],
          "name": "stderr"
        },
        {
          "output_type": "stream",
          "text": [
            "WARNING:tensorflow:Model was constructed with shape (None, 125) for input Tensor(\"input_segment_ids_1:0\", shape=(None, 125), dtype=int32), but it was called on an input with incompatible shape (None, 73).\n"
          ],
          "name": "stdout"
        },
        {
          "output_type": "stream",
          "text": [
            "WARNING:tensorflow:Model was constructed with shape (None, 125) for input Tensor(\"input_segment_ids_1:0\", shape=(None, 125), dtype=int32), but it was called on an input with incompatible shape (None, 73).\n"
          ],
          "name": "stderr"
        },
        {
          "output_type": "stream",
          "text": [
            "  2/154 [..............................] - ETA: 27sWARNING:tensorflow:Callbacks method `on_predict_batch_end` is slow compared to the batch time (batch time: 0.0177s vs `on_predict_batch_end` time: 0.2930s). Check your callbacks.\n"
          ],
          "name": "stdout"
        },
        {
          "output_type": "stream",
          "text": [
            "WARNING:tensorflow:Callbacks method `on_predict_batch_end` is slow compared to the batch time (batch time: 0.0177s vs `on_predict_batch_end` time: 0.2930s). Check your callbacks.\n"
          ],
          "name": "stderr"
        },
        {
          "output_type": "stream",
          "text": [
            "154/154 [==============================] - 48s 310ms/step\n",
            "0.8528632565722437\n"
          ],
          "name": "stdout"
        }
      ]
    },
    {
      "cell_type": "markdown",
      "metadata": {
        "id": "Swj8qWZ5ZSjO",
        "colab_type": "text"
      },
      "source": [
        "### 3.6 Training With a Smaller Batch Size\n",
        "In the remainder, we want to check how the performance will change if we choose the batch size to be 16 instead of 64. Again, I will use the smaller data set."
      ]
    },
    {
      "cell_type": "code",
      "metadata": {
        "id": "Y3fvks79aAbI",
        "colab_type": "code",
        "colab": {
          "base_uri": "https://localhost:8080/",
          "height": 462
        },
        "outputId": "cee76510-3c9a-41d2-d7c8-c2b2a4f2c462"
      },
      "source": [
        "model_s_b16 = inference_model_builder()\n",
        "logger_s_b16 = tf.keras.callbacks.TensorBoard(log_dir='/content/drive/My Drive/NLI_training/logs/model_s_b16')\n",
        "\n",
        "model_s_b16.fit(new_model_input, new_train_corpus.int_label.values,\n",
        "          epochs=2,\n",
        "          batch_size=16,\n",
        "          verbose=1,\n",
        "          callbacks=[logger_s_b16])"
      ],
      "execution_count": 32,
      "outputs": [
        {
          "output_type": "stream",
          "text": [
            "Epoch 1/2\n",
            "WARNING:tensorflow:Model was constructed with shape (None, 125) for input Tensor(\"input_word_ids_4:0\", shape=(None, 125), dtype=int32), but it was called on an input with incompatible shape (None, 96).\n"
          ],
          "name": "stdout"
        },
        {
          "output_type": "stream",
          "text": [
            "WARNING:tensorflow:Model was constructed with shape (None, 125) for input Tensor(\"input_word_ids_4:0\", shape=(None, 125), dtype=int32), but it was called on an input with incompatible shape (None, 96).\n"
          ],
          "name": "stderr"
        },
        {
          "output_type": "stream",
          "text": [
            "WARNING:tensorflow:Model was constructed with shape (None, 125) for input Tensor(\"input_mask_4:0\", shape=(None, 125), dtype=int32), but it was called on an input with incompatible shape (None, 96).\n"
          ],
          "name": "stdout"
        },
        {
          "output_type": "stream",
          "text": [
            "WARNING:tensorflow:Model was constructed with shape (None, 125) for input Tensor(\"input_mask_4:0\", shape=(None, 125), dtype=int32), but it was called on an input with incompatible shape (None, 96).\n"
          ],
          "name": "stderr"
        },
        {
          "output_type": "stream",
          "text": [
            "WARNING:tensorflow:Model was constructed with shape (None, 125) for input Tensor(\"input_segment_ids_4:0\", shape=(None, 125), dtype=int32), but it was called on an input with incompatible shape (None, 96).\n"
          ],
          "name": "stdout"
        },
        {
          "output_type": "stream",
          "text": [
            "WARNING:tensorflow:Model was constructed with shape (None, 125) for input Tensor(\"input_segment_ids_4:0\", shape=(None, 125), dtype=int32), but it was called on an input with incompatible shape (None, 96).\n"
          ],
          "name": "stderr"
        },
        {
          "output_type": "stream",
          "text": [
            "WARNING:tensorflow:Model was constructed with shape (None, 125) for input Tensor(\"input_word_ids_4:0\", shape=(None, 125), dtype=int32), but it was called on an input with incompatible shape (None, 96).\n"
          ],
          "name": "stdout"
        },
        {
          "output_type": "stream",
          "text": [
            "WARNING:tensorflow:Model was constructed with shape (None, 125) for input Tensor(\"input_word_ids_4:0\", shape=(None, 125), dtype=int32), but it was called on an input with incompatible shape (None, 96).\n"
          ],
          "name": "stderr"
        },
        {
          "output_type": "stream",
          "text": [
            "WARNING:tensorflow:Model was constructed with shape (None, 125) for input Tensor(\"input_mask_4:0\", shape=(None, 125), dtype=int32), but it was called on an input with incompatible shape (None, 96).\n"
          ],
          "name": "stdout"
        },
        {
          "output_type": "stream",
          "text": [
            "WARNING:tensorflow:Model was constructed with shape (None, 125) for input Tensor(\"input_mask_4:0\", shape=(None, 125), dtype=int32), but it was called on an input with incompatible shape (None, 96).\n"
          ],
          "name": "stderr"
        },
        {
          "output_type": "stream",
          "text": [
            "WARNING:tensorflow:Model was constructed with shape (None, 125) for input Tensor(\"input_segment_ids_4:0\", shape=(None, 125), dtype=int32), but it was called on an input with incompatible shape (None, 96).\n"
          ],
          "name": "stdout"
        },
        {
          "output_type": "stream",
          "text": [
            "WARNING:tensorflow:Model was constructed with shape (None, 125) for input Tensor(\"input_segment_ids_4:0\", shape=(None, 125), dtype=int32), but it was called on an input with incompatible shape (None, 96).\n"
          ],
          "name": "stderr"
        },
        {
          "output_type": "stream",
          "text": [
            "\r   1/3403 [..............................] - ETA: 20:51 - loss: 1.5016 - accuracy: 0.4375WARNING:tensorflow:From /usr/local/lib/python3.6/dist-packages/tensorflow/python/ops/summary_ops_v2.py:1277: stop (from tensorflow.python.eager.profiler) is deprecated and will be removed after 2020-07-01.\n",
            "Instructions for updating:\n",
            "use `tf.profiler.experimental.stop` instead.\n"
          ],
          "name": "stdout"
        },
        {
          "output_type": "stream",
          "text": [
            "WARNING:tensorflow:From /usr/local/lib/python3.6/dist-packages/tensorflow/python/ops/summary_ops_v2.py:1277: stop (from tensorflow.python.eager.profiler) is deprecated and will be removed after 2020-07-01.\n",
            "Instructions for updating:\n",
            "use `tf.profiler.experimental.stop` instead.\n"
          ],
          "name": "stderr"
        },
        {
          "output_type": "stream",
          "text": [
            "\b\b\b\b\b\b\b\b\b\b\b\b\b\b\b\b\b\b\b\b\b\b\b\b\b\b\b\b\b\b\b\b\b\b\b\b\b\b\b\b\b\b\b\b\b\b\b\b\b\b\b\b\b\b\b\b\b\b\b\b\b\b\b\b\b\b\b\b\b\b\b\b\b\b\b\b\b\b\b\b\b\b\b\b\b\b\b\b\b\r   2/3403 [..............................] - ETA: 49:14 - loss: 1.5090 - accuracy: 0.4688WARNING:tensorflow:Callbacks method `on_train_batch_end` is slow compared to the batch time (batch time: 0.4272s vs `on_train_batch_end` time: 0.9418s). Check your callbacks.\n"
          ],
          "name": "stdout"
        },
        {
          "output_type": "stream",
          "text": [
            "WARNING:tensorflow:Callbacks method `on_train_batch_end` is slow compared to the batch time (batch time: 0.4272s vs `on_train_batch_end` time: 0.9418s). Check your callbacks.\n"
          ],
          "name": "stderr"
        },
        {
          "output_type": "stream",
          "text": [
            "3403/3403 [==============================] - 2667s 784ms/step - loss: 0.5544 - accuracy: 0.7758\n",
            "Epoch 2/2\n",
            "3403/3403 [==============================] - 2666s 783ms/step - loss: 0.3621 - accuracy: 0.8659\n"
          ],
          "name": "stdout"
        },
        {
          "output_type": "execute_result",
          "data": {
            "text/plain": [
              "<tensorflow.python.keras.callbacks.History at 0x7f6e20013208>"
            ]
          },
          "metadata": {
            "tags": []
          },
          "execution_count": 32
        }
      ]
    },
    {
      "cell_type": "markdown",
      "metadata": {
        "id": "dYZy_QnsFOmE",
        "colab_type": "text"
      },
      "source": [
        "As you can see train set accuracy with batch_size = 16 is 86.6% ; a little bit higher than training with batch_size = 64."
      ]
    },
    {
      "cell_type": "code",
      "metadata": {
        "id": "0xEp7aewac6c",
        "colab_type": "code",
        "colab": {}
      },
      "source": [
        "model_s_b16.save(\"/content/drive/My Drive/NLI_training/model-s-b16.h5\")"
      ],
      "execution_count": 33,
      "outputs": []
    },
    {
      "cell_type": "code",
      "metadata": {
        "id": "VNlMq4tGclAY",
        "colab_type": "code",
        "colab": {}
      },
      "source": [
        "model_s_b16 = tf.keras.models.load_model(\"/content/drive/My Drive/NLI_training/model-s-b16.h5\",\n",
        "                                   custom_objects={'KerasLayer':hub.KerasLayer})"
      ],
      "execution_count": 34,
      "outputs": []
    },
    {
      "cell_type": "code",
      "metadata": {
        "id": "tRT4dheb9URB",
        "colab_type": "code",
        "colab": {
          "base_uri": "https://localhost:8080/",
          "height": 34
        },
        "outputId": "840ddec1-86ff-4c06-ab96-4650d67af1f0"
      },
      "source": [
        "accuracy(model_s_b16, dev_input, dev_corpus2)"
      ],
      "execution_count": 37,
      "outputs": [
        {
          "output_type": "stream",
          "text": [
            "0.8593845526798451\n"
          ],
          "name": "stdout"
        }
      ]
    },
    {
      "cell_type": "markdown",
      "metadata": {
        "id": "arOi_mGoHOSs",
        "colab_type": "text"
      },
      "source": [
        "Dev test accuracy does not have considerable difference with the previous training."
      ]
    },
    {
      "cell_type": "markdown",
      "metadata": {
        "id": "ZpCbDoNQvmBA",
        "colab_type": "text"
      },
      "source": [
        "## 4. Hyperparameters tuning\n",
        "What we did in the last section in testing performance of model with different batch sizes, was and example of tuning hyperparameters. However, batch size is not the only hyperparameter of the training process. To perform the inference task we chose the model architecture and some variables of the learning algorithm (e.g. learning rate) without any special reason. These variables are also hyperparameters (i.e. parameters that govern model architecture and learning algorithm performance) and need to be optimized to get the best possible model. Hyperparameter that we will search to optimize for this problem are:  \n",
        "* **Feedforward layers on top of the bert encoder:** In last part, we directly connected the `'[CLS]'` output of the bert encoder to a softmax layer. It is not necessarily the best possible option. we will investigate to see if adding some (up to 3) dense layers before the softmax layer improves the performance.\n",
        "* **No. of units in each layer:** Number of units in the each of layers of feedforward is another hyperparameter that we will investigate. I will not tune the activation functions, though.\n",
        "* **Dropout regularization on each layer and their rates:** The other question is if we need to do dropout regularization on the outputs of layers. If yes, what is the best rate of dropout?\n",
        "* **Learning rate of Adam optimization algorithm:** Learning rate of (any) optimization alogrithm is the most important hyperparameter to be tuned. We will set an interval of $10^{-6}$ to $10^{-4}$ and sample it in a logarithmic scale. This interval is inspired by the learning rates that authors of the BERT paper have chosen for different tasks of fine tuning.  \n",
        "We will not tune on the $\\beta_1=0.9$ and $\\beta_2=0.999$ and $\\epsilon=10^{-7}$ parameters of Adam optimization algorithm and will use the default valuse."
      ]
    },
    {
      "cell_type": "code",
      "metadata": {
        "id": "AecK6LY5thtq",
        "colab_type": "code",
        "colab": {}
      },
      "source": [
        "!pip install -q -U keras-tuner\n",
        "import kerastuner as kt"
      ],
      "execution_count": null,
      "outputs": []
    },
    {
      "cell_type": "markdown",
      "metadata": {
        "id": "K7LmszFzMIhI",
        "colab_type": "text"
      },
      "source": [
        "The function below, defines a hyper model. Hyper model is like the previous functional Keras model, except that hyperparameters are specified to be tuned by `hp` instance. "
      ]
    },
    {
      "cell_type": "code",
      "metadata": {
        "id": "IdHiB5ShBM3F",
        "colab_type": "code",
        "colab": {}
      },
      "source": [
        "def hyper_model_builder(hp):\n",
        "  \"\"\"\n",
        "  Builds and returns a hypermodel instance that Keras tuner does search on it\n",
        "\n",
        "  INPUTS:\n",
        "    hp: hyperparameter instance of Keras tuner\n",
        "  \"\"\"\n",
        "  \n",
        "  max_seq_length = 125\n",
        "  flag = 0 # this flag shows if the for loop have been activated or not.\n",
        "\n",
        "  input_word_ids = tf.keras.layers.Input(shape=(max_seq_length,), dtype=tf.int32, name=\"input_word_ids\")\n",
        "  input_mask = tf.keras.layers.Input(shape=(max_seq_length,), dtype=tf.int32, name=\"input_mask\")\n",
        "  input_segment_ids = tf.keras.layers.Input(shape=(max_seq_length,), dtype=tf.int32, name=\"input_segment_ids\")\n",
        "\n",
        "  bert_layer = hub.KerasLayer(\"https://tfhub.dev/tensorflow/bert_en_uncased_L-12_H-768_A-12/2\", trainable=True)\n",
        "\n",
        "  pooled_output, _ = bert_layer([input_word_ids, input_mask, input_segment_ids])\n",
        "  # pooled output is the embedding output for the '[CLS]' token that is dependant on all words of two sentences\n",
        "  # and can be used for classfication purposes\n",
        "\n",
        "  for i in range(hp.Int('number of added head layers', min_value=0, max_value=3)):\n",
        "    flag += 1\n",
        "    if i == 0:\n",
        "      X = tf.keras.layers.Dense(units=hp.Int('units_' + str(i), min_value=32, max_value=128, step=32),\n",
        "                                activation='relu') (pooled_output)\n",
        "    else:\n",
        "      X = tf.keras.layers.Dense(units=hp.Int('units_' + str(i), min_value=32, max_value=128, step=32),\n",
        "                                activation='relu')(X)\n",
        "    X = tf.keras.layers.Dropout(hp.Float('dropout_' + str(i), min_value=0, max_value=0.5, step=0.1))(X)\n",
        "  \n",
        "  if flag > 0:\n",
        "    output_class = tf.keras.layers.Dense(units=3, activation='softmax')(X)\n",
        "  else:\n",
        "    output_class = tf.keras.layers.Dense(units=3, activation='softmax')(pooled_output)\n",
        "  \n",
        "  model = tf.keras.Model(inputs=[input_word_ids, input_mask, input_segment_ids], outputs=output_class)\n",
        "\n",
        "  hp_learning_rate = hp.Float('learning_rate', min_value = 1e-6, max_value = 1e-4, sampling='log')\n",
        "  optimizer = tf.keras.optimizers.Adam(lr=hp_learning_rate)\n",
        "  model.compile(optimizer, loss='sparse_categorical_crossentropy', metrics=['accuracy'])\n",
        "\n",
        "  return model"
      ],
      "execution_count": 16,
      "outputs": []
    },
    {
      "cell_type": "markdown",
      "metadata": {
        "id": "R5TDZ-nyOHCl",
        "colab_type": "text"
      },
      "source": [
        "Random search method will be used to exploaring the hyperparameter space. Thus, we define `tuner` as an instance of random search tuner. Considering limited computational capacity and to avoid long periods of computation, I will do the search on ralatively small sample (10 points) from hyperparameters space."
      ]
    },
    {
      "cell_type": "code",
      "metadata": {
        "id": "c3e16Jn2wcMB",
        "colab_type": "code",
        "colab": {
          "base_uri": "https://localhost:8080/",
          "height": 85
        },
        "outputId": "3a5363ee-5c16-4d74-deb3-dd23b8a1ec24"
      },
      "source": [
        "tuner = kt.RandomSearch(hyper_model_builder,\n",
        "                        objective='val_accuracy', \n",
        "                        max_trials=10,\n",
        "                        executions_per_trial=3,\n",
        "                        directory = '/content/drive/My Drive/NLI_training',\n",
        "                        project_name = 'NLI_hp_tuning')                     "
      ],
      "execution_count": 27,
      "outputs": [
        {
          "output_type": "stream",
          "text": [
            "INFO:tensorflow:Reloading Oracle from existing project /content/drive/My Drive/NLI_training/NLI_hp_tuning/oracle.json\n"
          ],
          "name": "stdout"
        },
        {
          "output_type": "stream",
          "text": [
            "INFO:tensorflow:Reloading Oracle from existing project /content/drive/My Drive/NLI_training/NLI_hp_tuning/oracle.json\n"
          ],
          "name": "stderr"
        },
        {
          "output_type": "stream",
          "text": [
            "INFO:tensorflow:Reloading Tuner from /content/drive/My Drive/NLI_training/NLI_hp_tuning/tuner0.json\n"
          ],
          "name": "stdout"
        },
        {
          "output_type": "stream",
          "text": [
            "INFO:tensorflow:Reloading Tuner from /content/drive/My Drive/NLI_training/NLI_hp_tuning/tuner0.json\n"
          ],
          "name": "stderr"
        }
      ]
    },
    {
      "cell_type": "code",
      "metadata": {
        "id": "6eFILQ9QwPu6",
        "colab_type": "code",
        "colab": {}
      },
      "source": [
        "class ClearTrainingOutput(tf.keras.callbacks.Callback):\n",
        "  def on_train_end(*args, **kwargs):\n",
        "    IPython.display.clear_output(wait = True)"
      ],
      "execution_count": 28,
      "outputs": []
    },
    {
      "cell_type": "code",
      "metadata": {
        "id": "fRNE1c1m1w6G",
        "colab_type": "code",
        "colab": {
          "base_uri": "https://localhost:8080/",
          "height": 346
        },
        "outputId": "92c79577-be43-43dc-a8d2-85768ea5a2a2"
      },
      "source": [
        "tuner.search(new_model_input, new_train_corpus.int_label.values,\n",
        "             validation_data=(dev_input, dev_corpus2.int_label.values),\n",
        "             callbacks = [ClearTrainingOutput()],\n",
        "             verbose=1)\n",
        "best_hps = tuner.get_best_hyperparameters(num_trials=1)[0]"
      ],
      "execution_count": 29,
      "outputs": [
        {
          "output_type": "display_data",
          "data": {
            "text/html": [
              "<span style=\"color:#4527A0\"><h1 style=\"font-size:18px\">Trial complete</h1></span>"
            ],
            "text/plain": [
              "<IPython.core.display.HTML object>"
            ]
          },
          "metadata": {
            "tags": []
          }
        },
        {
          "output_type": "display_data",
          "data": {
            "text/html": [
              "<span style=\"color:#4527A0\"><h1 style=\"font-size:18px\">Trial summary</h1></span>"
            ],
            "text/plain": [
              "<IPython.core.display.HTML object>"
            ]
          },
          "metadata": {
            "tags": []
          }
        },
        {
          "output_type": "display_data",
          "data": {
            "text/html": [
              "<span style=\"color:cyan\"> |-Trial ID: d1e0a8f91ac015724ce7bf704931f1e4</span>"
            ],
            "text/plain": [
              "<IPython.core.display.HTML object>"
            ]
          },
          "metadata": {
            "tags": []
          }
        },
        {
          "output_type": "display_data",
          "data": {
            "text/html": [
              "<span style=\"color:cyan\"> |-Score: 0.7951226234436035</span>"
            ],
            "text/plain": [
              "<IPython.core.display.HTML object>"
            ]
          },
          "metadata": {
            "tags": []
          }
        },
        {
          "output_type": "display_data",
          "data": {
            "text/html": [
              "<span style=\"color:cyan\"> |-Best step: 0</span>"
            ],
            "text/plain": [
              "<IPython.core.display.HTML object>"
            ]
          },
          "metadata": {
            "tags": []
          }
        },
        {
          "output_type": "display_data",
          "data": {
            "text/html": [
              "<span style=\"color:#7E57C2\"><h2 style=\"font-size:16px\">Hyperparameters:</h2></span>"
            ],
            "text/plain": [
              "<IPython.core.display.HTML object>"
            ]
          },
          "metadata": {
            "tags": []
          }
        },
        {
          "output_type": "display_data",
          "data": {
            "text/html": [
              "<span style=\"color:cyan\"> |-dropout_0: 0.2</span>"
            ],
            "text/plain": [
              "<IPython.core.display.HTML object>"
            ]
          },
          "metadata": {
            "tags": []
          }
        },
        {
          "output_type": "display_data",
          "data": {
            "text/html": [
              "<span style=\"color:blue\"> |-dropout_1: 0.30000000000000004</span>"
            ],
            "text/plain": [
              "<IPython.core.display.HTML object>"
            ]
          },
          "metadata": {
            "tags": []
          }
        },
        {
          "output_type": "display_data",
          "data": {
            "text/html": [
              "<span style=\"color:cyan\"> |-dropout_2: 0.2</span>"
            ],
            "text/plain": [
              "<IPython.core.display.HTML object>"
            ]
          },
          "metadata": {
            "tags": []
          }
        },
        {
          "output_type": "display_data",
          "data": {
            "text/html": [
              "<span style=\"color:blue\"> |-learning_rate: 2.76867473400574e-06</span>"
            ],
            "text/plain": [
              "<IPython.core.display.HTML object>"
            ]
          },
          "metadata": {
            "tags": []
          }
        },
        {
          "output_type": "display_data",
          "data": {
            "text/html": [
              "<span style=\"color:cyan\"> |-number of added head layers: 3</span>"
            ],
            "text/plain": [
              "<IPython.core.display.HTML object>"
            ]
          },
          "metadata": {
            "tags": []
          }
        },
        {
          "output_type": "display_data",
          "data": {
            "text/html": [
              "<span style=\"color:blue\"> |-units_0: 64</span>"
            ],
            "text/plain": [
              "<IPython.core.display.HTML object>"
            ]
          },
          "metadata": {
            "tags": []
          }
        },
        {
          "output_type": "display_data",
          "data": {
            "text/html": [
              "<span style=\"color:cyan\"> |-units_1: 64</span>"
            ],
            "text/plain": [
              "<IPython.core.display.HTML object>"
            ]
          },
          "metadata": {
            "tags": []
          }
        },
        {
          "output_type": "display_data",
          "data": {
            "text/html": [
              "<span style=\"color:blue\"> |-units_2: 96</span>"
            ],
            "text/plain": [
              "<IPython.core.display.HTML object>"
            ]
          },
          "metadata": {
            "tags": []
          }
        },
        {
          "output_type": "stream",
          "text": [
            "INFO:tensorflow:Oracle triggered exit\n"
          ],
          "name": "stdout"
        },
        {
          "output_type": "stream",
          "text": [
            "INFO:tensorflow:Oracle triggered exit\n"
          ],
          "name": "stderr"
        }
      ]
    },
    {
      "cell_type": "markdown",
      "metadata": {
        "id": "VE8s-VbuVblf",
        "colab_type": "text"
      },
      "source": [
        "In the block above, you can see the result of random search for tuning values of hyperparameters. Basically, to build a model with the best hyperparameters found, we should use the following line of code:\n",
        "```\n",
        "best_model = tuner.hypermodel.build(best_hps)\n",
        "```\n",
        "We are not doing this here because as I mentioned before, this notebook is executed on Google colab and its disconnection totally restarts VM. Therefore to avoid repeating the search, I will manually build the tuned model."
      ]
    },
    {
      "cell_type": "code",
      "metadata": {
        "id": "xmMIDvJAXFMo",
        "colab_type": "code",
        "colab": {}
      },
      "source": [
        "def tuned_model_builder():\n",
        "  max_seq_length = 125\n",
        "\n",
        "  input_word_ids = tf.keras.layers.Input(shape=(max_seq_length,), dtype=tf.int32, name=\"input_word_ids\")\n",
        "  input_mask = tf.keras.layers.Input(shape=(max_seq_length,), dtype=tf.int32, name=\"input_mask\")\n",
        "  input_segment_ids = tf.keras.layers.Input(shape=(max_seq_length,), dtype=tf.int32, name=\"input_segment_ids\")\n",
        "\n",
        "  bert_layer = hub.KerasLayer(\"https://tfhub.dev/tensorflow/bert_en_uncased_L-12_H-768_A-12/2\", trainable=True)\n",
        "\n",
        "  pooled_output, _ = bert_layer([input_word_ids, input_mask, input_segment_ids])\n",
        "  # pooled output is the embedding output for the '[CLS]' token that is dependant on all words of two sentences\n",
        "  # and can be used for classfication purposes\n",
        "\n",
        "  X = tf.keras.layers.Dense(units=64, activation='relu')(pooled_output)\n",
        "  X = tf.keras.layers.Dropout(0.2)(X)\n",
        "  \n",
        "  X = tf.keras.layers.Dense(units=64, activation='relu')(X)\n",
        "  X = tf.keras.layers.Dropout(0.3)(X)\n",
        "\n",
        "  X = tf.keras.layers.Dense(units=96, activation='relu')(X)\n",
        "  X = tf.keras.layers.Dropout(0.2)(X)\n",
        "  \n",
        "  output_class = tf.keras.layers.Dense(units=3, activation='softmax')(X)\n",
        "  \n",
        "  model = tf.keras.Model(inputs=[input_word_ids, input_mask, input_segment_ids], outputs=output_class)\n",
        "\n",
        "  hp_learning_rate = 2.76867473400574e-06\n",
        "  optimizer = tf.keras.optimizers.Adam(lr=hp_learning_rate)\n",
        "  model.compile(optimizer, loss='sparse_categorical_crossentropy', metrics=['accuracy'])\n",
        "\n",
        "  return model"
      ],
      "execution_count": 20,
      "outputs": []
    },
    {
      "cell_type": "code",
      "metadata": {
        "id": "zTrauUXMZOnC",
        "colab_type": "code",
        "colab": {
          "base_uri": "https://localhost:8080/",
          "height": 561
        },
        "outputId": "03975683-e5b2-49de-e9ce-c2d2d23086f8"
      },
      "source": [
        "tuned_model = tuned_model_builder()\n",
        "tuned_model.summary()"
      ],
      "execution_count": 21,
      "outputs": [
        {
          "output_type": "stream",
          "text": [
            "Model: \"functional_1\"\n",
            "__________________________________________________________________________________________________\n",
            "Layer (type)                    Output Shape         Param #     Connected to                     \n",
            "==================================================================================================\n",
            "input_word_ids (InputLayer)     [(None, 125)]        0                                            \n",
            "__________________________________________________________________________________________________\n",
            "input_mask (InputLayer)         [(None, 125)]        0                                            \n",
            "__________________________________________________________________________________________________\n",
            "input_segment_ids (InputLayer)  [(None, 125)]        0                                            \n",
            "__________________________________________________________________________________________________\n",
            "keras_layer (KerasLayer)        [(None, 768), (None, 109482241   input_word_ids[0][0]             \n",
            "                                                                 input_mask[0][0]                 \n",
            "                                                                 input_segment_ids[0][0]          \n",
            "__________________________________________________________________________________________________\n",
            "dense (Dense)                   (None, 64)           49216       keras_layer[0][0]                \n",
            "__________________________________________________________________________________________________\n",
            "dropout (Dropout)               (None, 64)           0           dense[0][0]                      \n",
            "__________________________________________________________________________________________________\n",
            "dense_1 (Dense)                 (None, 64)           4160        dropout[0][0]                    \n",
            "__________________________________________________________________________________________________\n",
            "dropout_1 (Dropout)             (None, 64)           0           dense_1[0][0]                    \n",
            "__________________________________________________________________________________________________\n",
            "dense_2 (Dense)                 (None, 96)           6240        dropout_1[0][0]                  \n",
            "__________________________________________________________________________________________________\n",
            "dropout_2 (Dropout)             (None, 96)           0           dense_2[0][0]                    \n",
            "__________________________________________________________________________________________________\n",
            "dense_3 (Dense)                 (None, 3)            291         dropout_2[0][0]                  \n",
            "==================================================================================================\n",
            "Total params: 109,542,148\n",
            "Trainable params: 109,542,147\n",
            "Non-trainable params: 1\n",
            "__________________________________________________________________________________________________\n"
          ],
          "name": "stdout"
        }
      ]
    },
    {
      "cell_type": "markdown",
      "metadata": {
        "id": "BzrppU_gbVLN",
        "colab_type": "text"
      },
      "source": [
        "The architecture of new tuned model is as follows:"
      ]
    },
    {
      "cell_type": "code",
      "metadata": {
        "id": "Jzo1TU4AZxAB",
        "colab_type": "code",
        "colab": {
          "base_uri": "https://localhost:8080/",
          "height": 777
        },
        "outputId": "20f498e9-f50f-482a-cc21-d785afede565"
      },
      "source": [
        "tf.keras.utils.plot_model(tuned_model, show_shapes=True)"
      ],
      "execution_count": 22,
      "outputs": [
        {
          "output_type": "execute_result",
          "data": {
            "image/png": "[encoded data removed]",
            "text/plain": [
              "<IPython.core.display.Image object>"
            ]
          },
          "metadata": {
            "tags": []
          },
          "execution_count": 22
        }
      ]
    },
    {
      "cell_type": "markdown",
      "metadata": {
        "id": "wY-MVuhJcCos",
        "colab_type": "text"
      },
      "source": [
        "And the learning rate is:"
      ]
    },
    {
      "cell_type": "code",
      "metadata": {
        "id": "XvT3qz-aaZuX",
        "colab_type": "code",
        "colab": {
          "base_uri": "https://localhost:8080/",
          "height": 34
        },
        "outputId": "9848ab3f-056e-4823-b4fd-ed1c20c61a6a"
      },
      "source": [
        "tf.keras.backend.eval(tuned_model.optimizer.lr)"
      ],
      "execution_count": 23,
      "outputs": [
        {
          "output_type": "execute_result",
          "data": {
            "text/plain": [
              "2.7686747e-06"
            ]
          },
          "metadata": {
            "tags": []
          },
          "execution_count": 23
        }
      ]
    },
    {
      "cell_type": "code",
      "metadata": {
        "id": "MfANJ1BUhQF7",
        "colab_type": "code",
        "colab": {}
      },
      "source": [
        "logger_tuned = tf.keras.callbacks.TensorBoard(log_dir='/content/drive/My Drive/NLI_training/logs/new_tuned_model')"
      ],
      "execution_count": 24,
      "outputs": []
    },
    {
      "cell_type": "markdown",
      "metadata": {
        "id": "V0X4RoJvCIN9",
        "colab_type": "text"
      },
      "source": [
        "Note that since our new learning rate in about 0.2 times and learning will be slower, we train the new model for 5 epochs."
      ]
    },
    {
      "cell_type": "code",
      "metadata": {
        "id": "jekQfG_1bR5V",
        "colab_type": "code",
        "colab": {
          "base_uri": "https://localhost:8080/",
          "height": 258
        },
        "outputId": "555a7064-6f6f-46d7-8341-5ead9840e524"
      },
      "source": [
        "tuned_model.fit(new_model_input, new_train_corpus.int_label.values,\n",
        "                batch_size=16,\n",
        "                epochs=5,\n",
        "                verbose=1,\n",
        "                callbacks=[logger_tuned])"
      ],
      "execution_count": 28,
      "outputs": [
        {
          "output_type": "stream",
          "text": [
            "Epoch 1/5\n",
            "   2/3416 [..............................] - ETA: 34:55 - loss: 0.6977 - accuracy: 0.7812WARNING:tensorflow:Callbacks method `on_train_batch_end` is slow compared to the batch time (batch time: 0.3207s vs `on_train_batch_end` time: 0.6543s). Check your callbacks.\n"
          ],
          "name": "stdout"
        },
        {
          "output_type": "stream",
          "text": [
            "WARNING:tensorflow:Callbacks method `on_train_batch_end` is slow compared to the batch time (batch time: 0.3207s vs `on_train_batch_end` time: 0.6543s). Check your callbacks.\n"
          ],
          "name": "stderr"
        },
        {
          "output_type": "stream",
          "text": [
            "3416/3416 [==============================] - 1937s 567ms/step - loss: 0.5666 - accuracy: 0.7998\n",
            "Epoch 2/5\n",
            "3416/3416 [==============================] - 1936s 567ms/step - loss: 0.4902 - accuracy: 0.8306\n",
            "Epoch 3/5\n",
            "3416/3416 [==============================] - 1940s 568ms/step - loss: 0.4384 - accuracy: 0.8529\n",
            "Epoch 4/5\n",
            "3416/3416 [==============================] - 1942s 568ms/step - loss: 0.3872 - accuracy: 0.8729\n",
            "Epoch 5/5\n",
            "3416/3416 [==============================] - 1942s 568ms/step - loss: 0.3475 - accuracy: 0.8876\n"
          ],
          "name": "stdout"
        },
        {
          "output_type": "execute_result",
          "data": {
            "text/plain": [
              "<tensorflow.python.keras.callbacks.History at 0x7ff1402ba5c0>"
            ]
          },
          "metadata": {
            "tags": []
          },
          "execution_count": 28
        }
      ]
    },
    {
      "cell_type": "code",
      "metadata": {
        "id": "BU7sPmEkclGV",
        "colab_type": "code",
        "colab": {}
      },
      "source": [
        "tuned_model.save(\"/content/drive/My Drive/NLI_training/tuned_model.h5\")"
      ],
      "execution_count": 29,
      "outputs": []
    },
    {
      "cell_type": "markdown",
      "metadata": {
        "id": "rlYMmkNJK3Sc",
        "colab_type": "text"
      },
      "source": [
        "Train set accuracy for the tuned model is 88.8% which is very close to (not-tuned) model trained with full training set."
      ]
    },
    {
      "cell_type": "code",
      "metadata": {
        "id": "Wb0YaqkgLpax",
        "colab_type": "code",
        "colab": {
          "base_uri": "https://localhost:8080/",
          "height": 156
        },
        "outputId": "6666540b-332a-4e85-f426-f8152184821e"
      },
      "source": [
        "accuracy(tuned_model, dev_input, dev_corpus2)"
      ],
      "execution_count": 33,
      "outputs": [
        {
          "output_type": "stream",
          "text": [
            "WARNING:tensorflow:Model was constructed with shape (None, 125) for input Tensor(\"input_word_ids_1:0\", shape=(None, 125), dtype=int32), but it was called on an input with incompatible shape (None, 73).\n"
          ],
          "name": "stdout"
        },
        {
          "output_type": "stream",
          "text": [
            "WARNING:tensorflow:Model was constructed with shape (None, 125) for input Tensor(\"input_word_ids_1:0\", shape=(None, 125), dtype=int32), but it was called on an input with incompatible shape (None, 73).\n"
          ],
          "name": "stderr"
        },
        {
          "output_type": "stream",
          "text": [
            "WARNING:tensorflow:Model was constructed with shape (None, 125) for input Tensor(\"input_mask_1:0\", shape=(None, 125), dtype=int32), but it was called on an input with incompatible shape (None, 73).\n"
          ],
          "name": "stdout"
        },
        {
          "output_type": "stream",
          "text": [
            "WARNING:tensorflow:Model was constructed with shape (None, 125) for input Tensor(\"input_mask_1:0\", shape=(None, 125), dtype=int32), but it was called on an input with incompatible shape (None, 73).\n"
          ],
          "name": "stderr"
        },
        {
          "output_type": "stream",
          "text": [
            "WARNING:tensorflow:Model was constructed with shape (None, 125) for input Tensor(\"input_segment_ids_1:0\", shape=(None, 125), dtype=int32), but it was called on an input with incompatible shape (None, 73).\n"
          ],
          "name": "stdout"
        },
        {
          "output_type": "stream",
          "text": [
            "WARNING:tensorflow:Model was constructed with shape (None, 125) for input Tensor(\"input_segment_ids_1:0\", shape=(None, 125), dtype=int32), but it was called on an input with incompatible shape (None, 73).\n"
          ],
          "name": "stderr"
        },
        {
          "output_type": "stream",
          "text": [
            "0.8620263591433278\n"
          ],
          "name": "stdout"
        }
      ]
    },
    {
      "cell_type": "markdown",
      "metadata": {
        "id": "VE45_eR3Nvvr",
        "colab_type": "text"
      },
      "source": [
        "Dev set accuracy for the tuned model is 86.2%. A slight improvement has been made in comparison to pervious models."
      ]
    },
    {
      "cell_type": "code",
      "metadata": {
        "id": "_ghCYs6WPhGv",
        "colab_type": "code",
        "colab": {
          "base_uri": "https://localhost:8080/",
          "height": 156
        },
        "outputId": "31a2c6b4-25db-4b9d-d233-b24778995f83"
      },
      "source": [
        "accuracy(tuned_model, test_input, test_corpus2)"
      ],
      "execution_count": 34,
      "outputs": [
        {
          "output_type": "stream",
          "text": [
            "WARNING:tensorflow:Model was constructed with shape (None, 125) for input Tensor(\"input_word_ids_1:0\", shape=(None, 125), dtype=int32), but it was called on an input with incompatible shape (None, 76).\n"
          ],
          "name": "stdout"
        },
        {
          "output_type": "stream",
          "text": [
            "WARNING:tensorflow:Model was constructed with shape (None, 125) for input Tensor(\"input_word_ids_1:0\", shape=(None, 125), dtype=int32), but it was called on an input with incompatible shape (None, 76).\n"
          ],
          "name": "stderr"
        },
        {
          "output_type": "stream",
          "text": [
            "WARNING:tensorflow:Model was constructed with shape (None, 125) for input Tensor(\"input_mask_1:0\", shape=(None, 125), dtype=int32), but it was called on an input with incompatible shape (None, 76).\n"
          ],
          "name": "stdout"
        },
        {
          "output_type": "stream",
          "text": [
            "WARNING:tensorflow:Model was constructed with shape (None, 125) for input Tensor(\"input_mask_1:0\", shape=(None, 125), dtype=int32), but it was called on an input with incompatible shape (None, 76).\n"
          ],
          "name": "stderr"
        },
        {
          "output_type": "stream",
          "text": [
            "WARNING:tensorflow:Model was constructed with shape (None, 125) for input Tensor(\"input_segment_ids_1:0\", shape=(None, 125), dtype=int32), but it was called on an input with incompatible shape (None, 76).\n"
          ],
          "name": "stdout"
        },
        {
          "output_type": "stream",
          "text": [
            "WARNING:tensorflow:Model was constructed with shape (None, 125) for input Tensor(\"input_segment_ids_1:0\", shape=(None, 125), dtype=int32), but it was called on an input with incompatible shape (None, 76).\n"
          ],
          "name": "stderr"
        },
        {
          "output_type": "stream",
          "text": [
            "0.8609098228663447\n"
          ],
          "name": "stdout"
        }
      ]
    },
    {
      "cell_type": "markdown",
      "metadata": {
        "id": "s4ALEJEQXKsh",
        "colab_type": "text"
      },
      "source": [
        "## 5. Conclusion"
      ]
    },
    {
      "cell_type": "markdown",
      "metadata": {
        "id": "IEYJ2-GOznmf",
        "colab_type": "text"
      },
      "source": [
        "In the table below, we can see the performance summary of different models we explored in this notebook."
      ]
    },
    {
      "cell_type": "markdown",
      "metadata": {
        "id": "jEN9WDwDxrp6",
        "colab_type": "text"
      },
      "source": [
        "|    Model Name  |   Training set size  |   Batch size  |   Architecture and HPs  |   Training set accuracy  |   Development set accuracy  |\n",
        "|:--------------:|:--------------------:|:-------------:|:-----------------------:|:------------------------:|:---------------------------:|\n",
        "|   First model  |   Full (550000 ex.)  |       64      |           Basic         |            89%           |             89.7%           |\n",
        "|   model_s_b64  |   Small (55000 ex.)  |       64      |           Basic         |           83.5%          |             85.3%           |\n",
        "|   model_s_b16  |   Small (55000 ex.)  |       16      |           Basic         |           86.6%          |             85.9%           |\n",
        "|   tuned_model  |   Small (55000 ex.)  |       16      |           Tuned         |           88.8%          |             86.2%           |"
      ]
    },
    {
      "cell_type": "markdown",
      "metadata": {
        "id": "d5kzcl2Yy3Th",
        "colab_type": "text"
      },
      "source": [
        "And the best test set accuracies we obtained are:"
      ]
    },
    {
      "cell_type": "markdown",
      "metadata": {
        "id": "-Wm2Iz55yVsL",
        "colab_type": "text"
      },
      "source": [
        "|    Model Name  |   Training set size  |   Test set accuracy  |\n",
        "|:--------------:|:--------------------:|:--------------------:|\n",
        "|   First model  |   Full (550000 ex.)  |         89.7%        |\n",
        "|   tuned_model  |   Small (55000 ex.)  |         86.1%        |"
      ]
    },
    {
      "cell_type": "markdown",
      "metadata": {
        "id": "yo_MVWWA0c6v",
        "colab_type": "text"
      },
      "source": [
        "As a wrap up, some points are worth discussing:\n",
        "* Genarally it is observed that performance of models do not vary dramatically among training, dev and test sets and as far as this corpus is considered, variance and generalization is not an issue for our models.\n",
        "* Even when training set is cut to one tenth, models' performances are not deteriorated significantly. All these show that our examples within and between data sets are mostly homogeneous.\n",
        "* Random search for hyperparameter tuning has ended in a model that peforms better but not in a dramatic way. I can imagine two reasons for this:\n",
        "  * First, We did a very limited search in the hyperparameter space and if we search a larger sample we may obtain slightly better performances.\n",
        "  * Second and more important: It seems that BERT encoder, which is a large network with 110 million parameters, has a great anchor in our model and its impact is very much larger than the classification head we did hyperparameter tuning on. "
      ]
    },
    {
      "cell_type": "markdown",
      "metadata": {
        "id": "AX-GKxbxKyKr",
        "colab_type": "text"
      },
      "source": [
        "## 5. References\n",
        "* BERT Paper: Jacob Devlin, Ming-Wei Chang, Kenton Lee, Kristina Toutanova: \"BERT: Pre-training of Deep Bidirectional Transformers for Language Understanding\", 2018."
      ]
    }
  ]
}